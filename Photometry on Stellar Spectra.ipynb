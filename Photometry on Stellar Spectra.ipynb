{
 "cells": [
  {
   "cell_type": "markdown",
   "metadata": {},
   "source": [
    "### Part 1: Useful Functions"
   ]
  },
  {
   "cell_type": "code",
   "execution_count": 5,
   "metadata": {
    "collapsed": true
   },
   "outputs": [],
   "source": [
    "def get_model( temp ):\n",
    "    '''\n",
    "    Function opens Phoenix file of specified temperature in 100 Kelvin increments from 2300 to 12000 Kelvin.\n",
    "    Parameters\n",
    "    ----------\n",
    "    temp: str\n",
    "        Desired temperature in 100K increments from 2300 to 12,000 Kelvin\n",
    "        \n",
    "    Returns\n",
    "    -------\n",
    "    wavelength: array\n",
    "        Associated wavelengths for flux measurements from Phoenix FITS file, in Angstroms\n",
    "        \n",
    "    flux: array\n",
    "        Flux measurements from Phoenix FITS file, in erg/s/cm^2\n",
    "        \n",
    "    temp: str\n",
    "        See Parameters\n",
    "    '''\n",
    "    model_file = 'Med_Res_10K_Grid/lte0' + temp + '-4.50-0.0.PHOENIX-ACES-AGSS-COND-2011-HiRes.fits'\n",
    "    hdulist = fits.open(model_file)\n",
    "    flux = hdulist[0].data\n",
    "    wavelength = np.exp(hdulist[0].header[('CRVAL1')]+hdulist[0].header[('CDELT1')]*np.arange(0,212027))/(10**4)\n",
    "    return wavelength,flux"
   ]
  },
  {
   "cell_type": "code",
   "execution_count": 1,
   "metadata": {
    "collapsed": true
   },
   "outputs": [],
   "source": [
    "def getMag_hires(band,wavelength,flux,unit):\n",
    "    \n",
    "    import numpy as np\n",
    "    import scipy.interpolate as interp\n",
    "    \n",
    "    \n",
    "    \n",
    "    '''if band=='Ks':\n",
    "        bandwav,bandpass=np.loadtxt(\"../DATA/Ks_2MASS.txt\",unpack=True)    # micron\n",
    "        center=2.159\n",
    "        F0= 4.283E-14        # W cm^-2 micron^-1\n",
    "\n",
    "    elif band=='H':\n",
    "        bandwav,bandpass=np.loadtxt(\"../DATA/H_2MASS.txt\",unpack=True)\n",
    "        center=1.662\n",
    "        F0= 1.133E-13\n",
    "    \n",
    "    elif band=='J':\n",
    "        bandwav,bandpass=numpy.loadtxt(\"../DATA/J_2MASS.txt\",unpack=True)\n",
    "        center=1.235\n",
    "        F0= 3.129E-13'''\n",
    "    \n",
    "    #Units of Ks, H and J filters are microns, all other filters in Angstroms\n",
    "    \n",
    "    \n",
    "    if band=='Ks':\n",
    "        bandwav,bandpass=np.loadtxt('filters/k_filter.txt',unpack=True)\n",
    "        center=2.159        #micron\n",
    "        F0=4.283E-14        #W cm^-2 micron^-1\n",
    "\n",
    "    elif band=='H':\n",
    "        bandwav,bandpass=np.loadtxt('filters/h_filter.txt',unpack=True)\n",
    "        center=1.662\n",
    "        F0=1.133E-13\n",
    "\n",
    "    elif band=='J':\n",
    "        bandwav,bandpass=np.loadtxt('filters/j_filter.txt',unpack=True)\n",
    "        center=1.235\n",
    "        F0=3.129E-13\n",
    "\n",
    "    elif band=='U':\n",
    "        bandwav,bandpass=np.loadtxt('filters/bessell_U.dat',unpack=True)\n",
    "        center=0.365\n",
    "        F0=4.19E-12\n",
    "\n",
    "    elif band=='B':\n",
    "        bandwav,bandpass=np.loadtxt('filters/bessell_B.dat',unpack=True)\n",
    "        center=0.445\n",
    "        F0=6.60E-12\n",
    "\n",
    "    elif band=='V':\n",
    "        bandwav,bandpass=np.loadtxt('filters/bessell_V.dat',unpack=True)\n",
    "        center=0.551\n",
    "        F0=3.61E-12\n",
    "\n",
    "    elif band=='R':\n",
    "        bandwav,bandpass=np.loadtxt('filters/bessell_R.dat',unpack=True)\n",
    "        center=0.658\n",
    "        F0=2.25E-12\n",
    "\n",
    "    elif band=='I':\n",
    "        bandwav,bandpass=np.loadtxt('filters/bessell_I.dat',unpack=True)\n",
    "        center=0.806\n",
    "        F0=1.22E-12\n",
    "                                      #SDSS centers/widths/F0 from http://www.astronomy.ohio-state.edu/~martini/usefuldata.html\n",
    "    elif band=='u':                   #NOTE: ugriz filters are on the AB magnitude system, KsHJUBVRI are on the Vega system\n",
    "        bandwav,bandpass=np.loadtxt('filters/u_filter.txt',unpack=True)\n",
    "        center=0.356         \n",
    "        F0=0.8595E-11        \n",
    "        \n",
    "    elif band=='g':\n",
    "        bandwav,bandpass=np.loadtxt('filters/g_filter.txt',unpack=True)\n",
    "        center=0.483\n",
    "        F0=0.4669E-11\n",
    "        \n",
    "    elif band=='r':\n",
    "        bandwav,bandpass=np.loadtxt('filters/r_filter.txt',unpack=True)\n",
    "        center=0.626\n",
    "        F0=0.2780E-11\n",
    "    \n",
    "    elif band=='i':\n",
    "        bandwav,bandpass=np.loadtxt('filters/i_filter.txt',unpack=True)\n",
    "        center=0.767\n",
    "        F0=0.1852E-11\n",
    "    \n",
    "    elif band=='z':\n",
    "        bandwav,bandpass=np.loadtxt('filters/u_filter.txt',unpack=True)\n",
    "        center=0.910\n",
    "        F0=0.1315E-11\n",
    "    \n",
    "    '''elif band=='Kep':\n",
    "        bandwav,bandpass=np.loadtxt()\n",
    "        center=6400/10**4\n",
    "        F0= '''\n",
    "\n",
    "\n",
    "    filterband=np.zeros(wavelength.size)\n",
    "    if band=='U'or band=='B'or band=='V'or band=='R'or band=='I'or band=='u'or band=='g'or band=='r'or band=='i'or band=='z':\n",
    "        bandwav=[i/1.0E4 for i in bandwav]                     #Convert bandwav from Angstroms to microns\n",
    "        \n",
    "    bandinterp=interp.interp1d(bandwav,bandpass)\n",
    "            #1D function between bandwav(x) and bandpass(y), y=f(x)\n",
    "        \n",
    "    inband=np.logical_and(wavelength>bandwav[0],wavelength<bandwav[-1] )\n",
    "            #Array of 'True's where wavelength is in range of bandwav, 'False's outside of that range. Basically just an index of bandwav in wavelength array\n",
    "        \n",
    "    filterband[inband]=bandinterp(wavelength[inband])\n",
    "            #Ignore all values of bandpass outside of filter range. Now filterband is the same shape as wavelength and flux\n",
    "        \n",
    "    \n",
    "    if unit=='angstrom':  # convert to microns\n",
    "        wavelength=wavelength/1.0E4\n",
    "        flux=flux*1.0E4\n",
    "    \n",
    "    dwav=np.zeros(wavelength.size)\n",
    "        \n",
    "    dwav[0:-1]=wavelength[1:]-wavelength[0:-1]\n",
    "    \n",
    "\n",
    "    \n",
    "    mag=2.5*np.log10((np.sum(F0*dwav*filterband))/(np.sum(flux*dwav*filterband)))\n",
    "    \n",
    "    if unit=='angstrom':\n",
    "        return band,center*1.0E4,mag\n",
    "    else:\n",
    "        return band,center,mag \n",
    "    "
   ]
  },
  {
   "cell_type": "code",
   "execution_count": 4,
   "metadata": {
    "collapsed": true
   },
   "outputs": [],
   "source": [
    "def getFMext(x,R):\n",
    "    \n",
    "    \"\"\" Fitzpatrick 1999, spectroscopic\n",
    "\n",
    "        Inputs:  x = inverse wavelength in microns\n",
    "                R = ratio of A_V to E(B-V)\n",
    "                \n",
    "        Outputs:  returns Al/AV in magnitude units\n",
    "    \"\"\"\n",
    "    \n",
    "    from scipy.interpolate import interp1d\n",
    "    \n",
    "    import numpy as np\n",
    "\n",
    "    f99_anchor = 1.0E4 / np.array([np.inf, 26500., 12200., 6000., 5470., 4670., 4110., 2700., 2600.]) #microns\n",
    "    \n",
    "    a6000=-0.426+1.0044*R\n",
    "    a5470=-0.050+1.0016*R\n",
    "    a4670= 0.701+1.0016*R\n",
    "    a4110= 1.208+1.0032*R-0.00033*R**2\n",
    "\n",
    "    af99_anchor = np.array([0.0, 0.265, 0.829, a6000, a5470, a4670, a4110, 6.265, 6.591])/3.1\n",
    "    \n",
    "    f=interp1d(f99_anchor,af99_anchor, kind='cubic') \n",
    "    \n",
    "    return f(1.0/x)"
   ]
  },
  {
   "cell_type": "code",
   "execution_count": 9,
   "metadata": {
    "collapsed": true
   },
   "outputs": [],
   "source": [
    "import numpy as np\n",
    "from matplotlib import pyplot as plt\n",
    "import astropy\n",
    "import pandas as pd\n",
    "\n",
    "from astropy.io import fits\n",
    "\n",
    "%matplotlib inline"
   ]
  },
  {
   "cell_type": "markdown",
   "metadata": {},
   "source": [
    "### Part 2: Spectra Models for Various Extinction Magnitudes"
   ]
  },
  {
   "cell_type": "code",
   "execution_count": 10,
   "metadata": {
    "collapsed": false
   },
   "outputs": [],
   "source": [
    "X=get_model('5700')[0]\n",
    "Y=get_model('5700')[1]"
   ]
  },
  {
   "cell_type": "code",
   "execution_count": 11,
   "metadata": {
    "collapsed": true
   },
   "outputs": [],
   "source": [
    "AlAv=getFMext(1.0/X,3)\n",
    "#Use Z=Y*10.0**(-0.4*AlAv) for reddened spectra\n",
    "#Multiply exponent by desired magnitude of extinction"
   ]
  },
  {
   "cell_type": "code",
   "execution_count": 12,
   "metadata": {
    "collapsed": true
   },
   "outputs": [],
   "source": [
    "Z=Y*10.0**(-0.4*AlAv) #use reddened spectra as new initial spectra\n",
    "Q=Z*10.0**(-0.4*AlAv) #repeat above step to get next magnitude of extinction\n",
    "P=Q*10.0**(-0.4*AlAv) #repeat above step to get next magnitude of extinction"
   ]
  },
  {
   "cell_type": "code",
   "execution_count": 14,
   "metadata": {
    "collapsed": false
   },
   "outputs": [
    {
     "data": {
      "text/plain": [
       "<matplotlib.text.Text at 0x1169ef690>"
      ]
     },
     "execution_count": 14,
     "metadata": {},
     "output_type": "execute_result"
    },
    {
     "data": {
      "image/png": "[encoded data removed]",
      "text/plain": [
       "<matplotlib.figure.Figure at 0x1155b2050>"
      ]
     },
     "metadata": {},
     "output_type": "display_data"
    }
   ],
   "source": [
    "plt.plot(X,Y,label=\"no extinction\")\n",
    "plt.plot(X,Y*10.0**(-0.4*AlAv),label=\"1 mag of extinction\")\n",
    "plt.plot(X,Z*10.0**(-0.4*AlAv),label=\"2 mags of extinction\")\n",
    "plt.plot(X,Q*10.0**(-0.4*AlAv),label=\"3 mags of extinction\")\n",
    "plt.legend()\n",
    "plt.xlabel(\"wavelength (microns)\")\n",
    "plt.ylabel(\"flux density (erg/s/cm^2/micron)\")"
   ]
  },
  {
   "cell_type": "markdown",
   "metadata": {},
   "source": [
    "### Part 3: Photometry (Band Magnitudes and Extinction)"
   ]
  },
  {
   "cell_type": "code",
   "execution_count": 15,
   "metadata": {
    "collapsed": true
   },
   "outputs": [],
   "source": [
    "KmagA=getMag_hires('Ks',X*1.0E4,Y,'angstrom')\n",
    "VmagA=getMag_hires('V',X,Y,'angstrom')\n",
    "KmagB=getMag_hires('Ks',X*1.0E4,Z,'angstrom')\n",
    "VmagB=getMag_hires('V',X,Z,'angstrom')\n",
    "KmagC=getMag_hires('Ks',X*1.0E4,Q,'angstrom')\n",
    "VmagC=getMag_hires('V',X,Q,'angstrom')\n",
    "KmagD=getMag_hires('Ks',X*1.0E4,P,'angstrom')\n",
    "VmagD=getMag_hires('V',X,P,'angstrom')"
   ]
  },
  {
   "cell_type": "markdown",
   "metadata": {},
   "source": [
    "|Extinction Magnitude|V mag   |K mag   | V-K  |\n",
    "|---|---|---|---|\n",
    "|0  |-75.84|-77.42|1.58|\n",
    "| 1 |-75.69|-76.22|0.53|\n",
    "|  2|-75.55|-75.03|-0.52|\n",
    "|  3|-75.41|-73.84|-1.57|"
   ]
  },
  {
   "cell_type": "code",
   "execution_count": null,
   "metadata": {
    "collapsed": true
   },
   "outputs": [],
   "source": []
  }
 ],
 "metadata": {
  "kernelspec": {
   "display_name": "Python 2",
   "language": "python",
   "name": "python2"
  },
  "language_info": {
   "codemirror_mode": {
    "name": "ipython",
    "version": 2
   },
   "file_extension": ".py",
   "mimetype": "text/x-python",
   "name": "python",
   "nbconvert_exporter": "python",
   "pygments_lexer": "ipython2",
   "version": "2.7.10"
  }
 },
 "nbformat": 4,
 "nbformat_minor": 0
}
