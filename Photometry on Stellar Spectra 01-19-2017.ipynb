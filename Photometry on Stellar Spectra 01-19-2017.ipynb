{
 "cells": [
  {
   "cell_type": "markdown",
   "metadata": {},
   "source": [
    "### Part 1: Useful Functions"
   ]
  },
  {
   "cell_type": "code",
   "execution_count": 28,
   "metadata": {
    "collapsed": true
   },
   "outputs": [],
   "source": [
    "def get_model( temp ):\n",
    "    '''\n",
    "    Function opens Phoenix file of specified temperature in 100 Kelvin increments from 2300 to 12000 Kelvin.\n",
    "    Parameters\n",
    "    ----------\n",
    "    temp: str\n",
    "        Desired temperature in 100K increments from 2300 to 12,000 Kelvin\n",
    "        \n",
    "    Returns\n",
    "    -------\n",
    "    wavelength: array\n",
    "        Associated wavelengths for flux measurements from Phoenix FITS file, in Angstroms\n",
    "        \n",
    "    flux: array\n",
    "        Flux measurements from Phoenix FITS file, in erg/s/cm^2\n",
    "        \n",
    "    temp: str\n",
    "        See Parameters\n",
    "    '''\n",
    "    model_file = 'Med_Res_10K_Grid/lte0' + temp + '-4.50-0.0.PHOENIX-ACES-AGSS-COND-2011-HiRes.fits'\n",
    "    #what are the numbers here? -4.50-0.0\n",
    "    hdulist = fits.open(model_file)\n",
    "    flux = hdulist[0].data\n",
    "    wavelength = np.exp(hdulist[0].header[('CRVAL1')]+hdulist[0].header[('CDELT1')]*np.arange(0,212027))/(10**4)\n",
    "    return wavelength,flux"
   ]
  },
  {
   "cell_type": "code",
   "execution_count": 29,
   "metadata": {
    "collapsed": false
   },
   "outputs": [],
   "source": [
    "def getMag_hires(band,wavelength,flux):\n",
    "    #input flux should be in W/cm^2/micron to match 0-pt flux\n",
    "    #PHOENIX flux is erg/s/cm^2/cm\n",
    "    \n",
    "    import numpy as np\n",
    "    import scipy.interpolate as interp\n",
    "    \n",
    "    wavelength= wavelength*1.0E4 #convert input wavelength to Angstroms\n",
    "    flux=flux*1.0E-8 #convert input flux to ergs/cm^2/s/Angstrom\n",
    "    \n",
    "    '''if band=='Ks':\n",
    "        bandwav,bandpass=np.loadtxt(\"../DATA/Ks_2MASS.txt\",unpack=True)    # micron\n",
    "        center=2.159\n",
    "        F0= 4.283E-14        # W cm^-2 micron^-1\n",
    "\n",
    "    elif band=='H':\n",
    "        bandwav,bandpass=np.loadtxt(\"../DATA/H_2MASS.txt\",unpack=True)\n",
    "        center=1.662\n",
    "        F0= 1.133E-13\n",
    "    \n",
    "    elif band=='J':\n",
    "        bandwav,bandpass=numpy.loadtxt(\"../DATA/J_2MASS.txt\",unpack=True)\n",
    "        center=1.235\n",
    "        F0= 3.129E-13'''\n",
    "    \n",
    "    #All filters are in Angstroms\n",
    "    #code was written when: Units of Ks, H and J filters are microns, all other filters in Angstroms\n",
    "    \n",
    "    \n",
    "    if band=='Ks':\n",
    "        bandwav,bandpass=np.loadtxt('filters/k_filter.txt',unpack=True)\n",
    "        center=2.159*1.0E4        #Angstroms\n",
    "        F0=4.283E-14        #KsHJUBVRI F0 have units W cm^-2 micron^-1\n",
    "   \n",
    "    elif band=='H':\n",
    "        bandwav,bandpass=np.loadtxt('filters/h_filter.txt',unpack=True)\n",
    "        center=1.662*1.0E4\n",
    "        F0=1.133E-13\n",
    "\n",
    "    elif band=='J':\n",
    "        bandwav,bandpass=np.loadtxt('filters/j_filter.txt',unpack=True)\n",
    "        center=1.235*1.0E4\n",
    "        F0=3.129E-13\n",
    "\n",
    "    elif band=='U':\n",
    "        bandwav,bandpass=np.loadtxt('filters/bessell_U.dat',unpack=True)\n",
    "        center=0.365*1.0E4\n",
    "        F0=4.19E-12\n",
    "\n",
    "    elif band=='B':\n",
    "        bandwav,bandpass=np.loadtxt('filters/bessell_B.dat',unpack=True)\n",
    "        center=0.445*1.0E4\n",
    "        F0=6.60E-12\n",
    "\n",
    "    elif band=='V':\n",
    "        bandwav,bandpass=np.loadtxt('filters/bessell_V.dat',unpack=True)\n",
    "        center=0.551*1.0E4\n",
    "        F0=3.61E-12\n",
    "\n",
    "    elif band=='R':\n",
    "        bandwav,bandpass=np.loadtxt('filters/bessell_R.dat',unpack=True)\n",
    "        center=0.658*1.0E4\n",
    "        F0=2.25E-12\n",
    "\n",
    "    elif band=='I':\n",
    "        bandwav,bandpass=np.loadtxt('filters/bessell_I.dat',unpack=True)\n",
    "        center=0.806*1.0E4\n",
    "        F0=1.22E-12\n",
    "                                      #SDSS centers/widths/F0 from http://www.astronomy.ohio-state.edu/~martini/usefuldata.html\n",
    "    elif band=='u':                   #NOTE: ugriz filters are on the AB magnitude system, KsHJUBVRI are on the Vega system\n",
    "        bandwav,bandpass=np.loadtxt('filters/u_filter.txt',unpack=True)\n",
    "        center=0.356*1.0E4         \n",
    "        F0=0.8595E-11        #ugriz F0 have units erg/cm^2/s/Angstrom\n",
    "        \n",
    "    elif band=='g':\n",
    "        bandwav,bandpass=np.loadtxt('filters/g_filter.txt',unpack=True)\n",
    "        center=0.483*1.0E4\n",
    "        F0=0.4669E-11\n",
    "        \n",
    "    elif band=='r':\n",
    "        bandwav,bandpass=np.loadtxt('filters/r_filter.txt',unpack=True)\n",
    "        center=0.626*1.0E4\n",
    "        F0=0.2780E-11\n",
    "    \n",
    "    elif band=='i':\n",
    "        bandwav,bandpass=np.loadtxt('filters/i_filter.txt',unpack=True)\n",
    "        center=0.767*1.0E4\n",
    "        F0=0.1852E-11\n",
    "    \n",
    "    elif band=='z':\n",
    "        bandwav,bandpass=np.loadtxt('filters/u_filter.txt',unpack=True)\n",
    "        center=0.910*1.0E4\n",
    "        F0=0.1315E-11\n",
    "    \n",
    "    '''elif band=='Kep':\n",
    "        bandwav,bandpass=np.loadtxt()\n",
    "        center=6400/10**4\n",
    "        F0= '''\n",
    "    \n",
    "    if band=='Ks' or band=='H' or band=='J' or band=='U' or band=='V' or band=='B' or band=='R' or band=='I':\n",
    "        F0=F0*1.0E3 #convert to ergs/cm^2/s/Angstrom\n",
    "        \n",
    "    #other bands already have 0-point flux in ergs/cm^2/s/Angstrom\n",
    "\n",
    "    filterband=np.zeros(wavelength.size)\n",
    "\n",
    "    \n",
    "    bandinterp=interp.interp1d(bandwav,bandpass)\n",
    "            #1D function between bandwav(x) and bandpass(y), y=f(x)\n",
    "        \n",
    "    inband=np.logical_and(wavelength>bandwav[0],wavelength<bandwav[-1] )\n",
    "            #Array of 'True's where wavelength is in range of bandwav, 'False's outside of that range. Basically just an index of bandwav in wavelength array\n",
    "        \n",
    "    filterband[inband]=bandinterp(wavelength[inband])\n",
    "            #Ignore all values of bandpass outside of filter range. Now filterband is the same shape as wavelength and flux\n",
    "        \n",
    "    dwav=np.zeros(wavelength.size)\n",
    "        \n",
    "    dwav[0:-1]=wavelength[1:]-wavelength[0:-1]\n",
    "    \n",
    "    \n",
    "    mag=2.5*np.log10((np.sum(F0*dwav*filterband))/(np.sum(flux*dwav*filterband)))\n",
    "    \n",
    "    return band,center,mag\n",
    "    "
   ]
  },
  {
   "cell_type": "code",
   "execution_count": 30,
   "metadata": {
    "collapsed": true
   },
   "outputs": [],
   "source": [
    "def getFMext(x,R):\n",
    "    \n",
    "    \"\"\" Fitzpatrick 1999, spectroscopic\n",
    "\n",
    "        Inputs:  x = inverse wavelength in microns\n",
    "                R = ratio of A_V to E(B-V)\n",
    "                \n",
    "        Outputs:  returns Al/AV in magnitude units\n",
    "    \"\"\"\n",
    "    \n",
    "    from scipy.interpolate import interp1d\n",
    "    \n",
    "    import numpy as np\n",
    "\n",
    "    f99_anchor = 1.0E4 / np.array([np.inf, 26500., 12200., 6000., 5470., 4670., 4110., 2700., 2600.]) #microns\n",
    "    #np.array creates an array\n",
    "    #np.inf sets value to infinity\n",
    "    #\"anchor\" wavelengths for the function to come--what is the pattern here?\n",
    "    #x axis values\n",
    "    \n",
    "    a6000=-0.426+1.0044*R\n",
    "    a5470=-0.050+1.0016*R\n",
    "    a4670= 0.701+1.0016*R\n",
    "    a4110= 1.208+1.0032*R-0.00033*R**2\n",
    "    #for values in array, apply R in some way\n",
    "    #create new values using R. Where do coefficients of R come from?\n",
    "\n",
    "    af99_anchor = np.array([0.0, 0.265, 0.829, a6000, a5470, a4670, a4110, 6.265, 6.591])/3.1\n",
    "    #same shape as previous array so function can be created\n",
    "    #create a new array, replacing numbers from original array with their corresponding constant\n",
    "    #divide by 3.1: comparing to the \"standard\" R value of 3.1?\n",
    "    #y axis values--tell extinction pattern of \"anchor values\"?\n",
    "    \n",
    "    f=interp1d(f99_anchor,af99_anchor, kind='cubic') \n",
    "    #create a 2-variable function between the two arrays, wavelength and magnitude of extinction\n",
    "    #find a function of frequency (1/wavelength)\n",
    "    \n",
    "    return f(x)\n",
    "    #A_lambda/A_V:a different value for each input wavelength (continuous function)"
   ]
  },
  {
   "cell_type": "code",
   "execution_count": 31,
   "metadata": {
    "collapsed": true
   },
   "outputs": [],
   "source": [
    "import numpy as np\n",
    "from matplotlib import pyplot as plt\n",
    "import astropy\n",
    "import pandas as pd\n",
    "\n",
    "from astropy.io import fits\n",
    "\n",
    "%matplotlib inline"
   ]
  },
  {
   "cell_type": "code",
   "execution_count": 32,
   "metadata": {
    "collapsed": false,
    "scrolled": true
   },
   "outputs": [
    {
     "data": {
      "text/plain": [
       "[<matplotlib.lines.Line2D at 0x1178b4f50>]"
      ]
     },
     "execution_count": 32,
     "metadata": {},
     "output_type": "execute_result"
    },
    {
     "data": {
      "image/png": "[encoded data removed]",
      "text/plain": [
       "<matplotlib.figure.Figure at 0x116765b50>"
      ]
     },
     "metadata": {},
     "output_type": "display_data"
    }
   ],
   "source": [
    "X=get_model('5700')[0]\n",
    "plt.plot(X,getFMext(X,3.1))\n",
    "#It appears that as wavelength increases, A_l/A_V decreases"
   ]
  },
  {
   "cell_type": "code",
   "execution_count": 33,
   "metadata": {
    "collapsed": false
   },
   "outputs": [
    {
     "data": {
      "text/plain": [
       "array([ 0.06487389,  0.06487464,  0.06487539, ...,  1.42340273,\n",
       "        1.42341433,  1.42342593])"
      ]
     },
     "execution_count": 33,
     "metadata": {},
     "output_type": "execute_result"
    }
   ],
   "source": [
    "getFMext(X,3.1)\n",
    "#Looks like Al/Av is not defined for wavelengths less than about 0.3 microns\n",
    "#Need different anchors for hotter stars?"
   ]
  },
  {
   "cell_type": "markdown",
   "metadata": {},
   "source": [
    "### Part 2: Spectra Models for Various Extinction Magnitudes"
   ]
  },
  {
   "cell_type": "code",
   "execution_count": 34,
   "metadata": {
    "collapsed": false
   },
   "outputs": [],
   "source": [
    "X=get_model('5700')[0]\n",
    "Y=get_model('5700')[1]"
   ]
  },
  {
   "cell_type": "code",
   "execution_count": 35,
   "metadata": {
    "collapsed": true
   },
   "outputs": [],
   "source": [
    "AlAv=getFMext(1.0/X,3.1)\n",
    "#Use Z=Y*10.0**(-0.4*AlAv) for reddened spectra\n",
    "#Multiply exponent by desired magnitude of extinction"
   ]
  },
  {
   "cell_type": "code",
   "execution_count": 36,
   "metadata": {
    "collapsed": true
   },
   "outputs": [],
   "source": [
    "Z=Y*10.0**(-0.4*AlAv) #use reddened spectra as new initial spectra"
   ]
  },
  {
   "cell_type": "code",
   "execution_count": 37,
   "metadata": {
    "collapsed": false
   },
   "outputs": [
    {
     "data": {
      "text/plain": [
       "<matplotlib.text.Text at 0x1167b6e50>"
      ]
     },
     "execution_count": 37,
     "metadata": {},
     "output_type": "execute_result"
    },
    {
     "data": {
      "image/png": "[encoded data removed]",
      "text/plain": [
       "<matplotlib.figure.Figure at 0x115b5c890>"
      ]
     },
     "metadata": {},
     "output_type": "display_data"
    }
   ],
   "source": [
    "plt.plot(X,Y,label=\"no extinction\")\n",
    "plt.plot(X,Y*10.0**(-0.4*AlAv),label=\"A_V = 1 extinction\")\n",
    "plt.plot(X,Y*10.0**(-0.4*AlAv*2.0),label=\"A_V = 2 extinctions\")\n",
    "plt.legend()\n",
    "plt.xlabel(\"wavelength (microns)\")\n",
    "plt.ylabel(\"flux density (erg/s/cm^2/micron)\")\n",
    "#plot not doing what expected, looks scaled, not extinguished, before 0.5 microns"
   ]
  },
  {
   "cell_type": "markdown",
   "metadata": {},
   "source": [
    "### Part 3: Photometry (Band Magnitudes and Extinction)"
   ]
  },
  {
   "cell_type": "code",
   "execution_count": 38,
   "metadata": {
    "collapsed": false
   },
   "outputs": [],
   "source": [
    "Q=Z*10.0**(-0.4*AlAv)\n",
    "P=Q*10.0**(-0.4*AlAv)"
   ]
  },
  {
   "cell_type": "code",
   "execution_count": 39,
   "metadata": {
    "collapsed": false
   },
   "outputs": [],
   "source": [
    "def getMags (X,Y,Z,Q,P):\n",
    "    #should change variable names here, but using for now for expediency\n",
    "    KmagA=getMag_hires('Ks',X,Y) \n",
    "    VmagA=getMag_hires('V',X,Y)\n",
    "\n",
    "    KmagB=getMag_hires('Ks',X,Z) \n",
    "    VmagB=getMag_hires('V',X,Z)\n",
    "\n",
    "    KmagC=getMag_hires('Ks',X,Q) \n",
    "    VmagC=getMag_hires('V',X,Q)\n",
    "\n",
    "    KmagD=getMag_hires('Ks',X,P) \n",
    "    VmagD=getMag_hires('V',X,P)\n",
    "\n",
    "    return(KmagA,VmagA,KmagB,VmagB,KmagC,VmagC,KmagD,VmagD)\n",
    "\n",
    "#convert some wavelengths to microns, but use angstrom keyword for each one\n",
    "#'Ks' filter is expecting a spectrum input in microns \n",
    "#'V' filter is expecting a spectrum input in angstroms, so no conversion needed\n",
    "\n",
    "#conversion previously necessary because of these lines of code:\n",
    "#  #if band=='U'or band=='B'or band=='V'or band=='R'or band=='I'or band=='u'or band=='g'or band=='r'or band=='i'or band=='z':\n",
    "        #bandwav=[i/1.0E4 for i in bandwav]                     #Convert bandwav from Angstroms to microns\n",
    "                                                               #now all filters are in Angstroms--see line below\n",
    "\n",
    "#now using bandwav=[i/1.0E4 for i in bandwav], conversion not necessary (applies to all filters)\n"
   ]
  },
  {
   "cell_type": "code",
   "execution_count": 40,
   "metadata": {
    "collapsed": false
   },
   "outputs": [
    {
     "data": {
      "text/plain": [
       "(('Ks', 21589.999999999996, -39.920097693935752),\n",
       " ('V', 5510.0, -38.343470695640598),\n",
       " ('Ks', 21589.999999999996, -39.807455966676685),\n",
       " ('V', 5510.0, -37.361298235336534),\n",
       " ('Ks', 21589.999999999996, -39.694851121264783),\n",
       " ('V', 5510.0, -36.38639633975275),\n",
       " ('Ks', 21589.999999999996, -39.582283123757833),\n",
       " ('V', 5510.0, -35.418870078669343))"
      ]
     },
     "execution_count": 40,
     "metadata": {},
     "output_type": "execute_result"
    }
   ],
   "source": [
    "getMags(X,Y,Z,Q,P)"
   ]
  },
  {
   "cell_type": "markdown",
   "metadata": {},
   "source": [
    "|Number of Extinctions|V mag   |K mag   | V-K  |\n",
    "|---|---|---|---|\n",
    "|0  |-38.34|-39.92|1.58|\n",
    "| 1 |-37.36|-39.81|2.45|\n",
    "|  2|-36.38|-39.69|3.31|\n",
    "|  3|-35.41|-39.58|4.17|"
   ]
  },
  {
   "cell_type": "code",
   "execution_count": null,
   "metadata": {
    "collapsed": true
   },
   "outputs": [],
   "source": []
  }
 ],
 "metadata": {
  "kernelspec": {
   "display_name": "Python 2",
   "language": "python",
   "name": "python2"
  },
  "language_info": {
   "codemirror_mode": {
    "name": "ipython",
    "version": 2
   },
   "file_extension": ".py",
   "mimetype": "text/x-python",
   "name": "python",
   "nbconvert_exporter": "python",
   "pygments_lexer": "ipython2",
   "version": "2.7.10"
  }
 },
 "nbformat": 4,
 "nbformat_minor": 0
}
