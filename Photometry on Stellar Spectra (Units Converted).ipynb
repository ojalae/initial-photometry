{
 "cells": [
  {
   "cell_type": "markdown",
   "metadata": {},
   "source": [
    "### Part 1: Useful Functions"
   ]
  },
  {
   "cell_type": "code",
   "execution_count": 621,
   "metadata": {
    "collapsed": true
   },
   "outputs": [],
   "source": [
    "def get_model( temp ):\n",
    "    '''\n",
    "    Function opens Phoenix file of specified temperature in 100 Kelvin increments from 2300 to 12000 Kelvin.\n",
    "    Parameters\n",
    "    ----------\n",
    "    temp: str\n",
    "        Desired temperature in 100K increments from 2300 to 12,000 Kelvin\n",
    "        \n",
    "    Returns\n",
    "    -------\n",
    "    wavelength: array\n",
    "        Associated wavelengths for flux measurements from Phoenix FITS file, in Angstroms\n",
    "        \n",
    "    flux: array\n",
    "        Flux measurements from Phoenix FITS file, in erg/s/cm^2\n",
    "        \n",
    "    temp: str\n",
    "        See Parameters\n",
    "    '''\n",
    "    model_file = 'Med_Res_10K_Grid/lte0' + temp + '-4.50-0.0.PHOENIX-ACES-AGSS-COND-2011-HiRes.fits'\n",
    "    #what are the numbers here? -4.50-0.0\n",
    "    hdulist = fits.open(model_file)\n",
    "    flux = hdulist[0].data\n",
    "    wavelength = np.exp(hdulist[0].header[('CRVAL1')]+hdulist[0].header[('CDELT1')]*np.arange(0,212027))/(10**4)\n",
    "    return wavelength,flux"
   ]
  },
  {
   "cell_type": "code",
   "execution_count": 622,
   "metadata": {
    "collapsed": false
   },
   "outputs": [],
   "source": [
    "def getMag_hires(band,wavelength,flux):\n",
    "    #PHOENIX flux is erg/s/cm^2/cm\n",
    "    \n",
    "    import numpy as np\n",
    "    import scipy.interpolate as interp\n",
    "    \n",
    "    wavelength= wavelength*1.0E4 #convert input wavelength to Angstroms\n",
    "    flux=flux*1.0E-8 #convert input flux to ergs/cm^2/s/Angstrom\n",
    "    \n",
    "    '''if band=='Ks':\n",
    "        bandwav,bandpass=np.loadtxt(\"../DATA/Ks_2MASS.txt\",unpack=True)    # micron\n",
    "        center=2.159\n",
    "        F0= 4.283E-14        # W cm^-2 micron^-1\n",
    "\n",
    "    elif band=='H':\n",
    "        bandwav,bandpass=np.loadtxt(\"../DATA/H_2MASS.txt\",unpack=True)\n",
    "        center=1.662\n",
    "        F0= 1.133E-13\n",
    "    \n",
    "    elif band=='J':\n",
    "        bandwav,bandpass=numpy.loadtxt(\"../DATA/J_2MASS.txt\",unpack=True)\n",
    "        center=1.235\n",
    "        F0= 3.129E-13'''\n",
    "    \n",
    "    #All filters are in Angstroms\n",
    "    #code was written when: Units of Ks, H and J filters are microns, all other filters in Angstroms\n",
    "    \n",
    "    \n",
    "    if band=='Ks':\n",
    "        bandwav,bandpass=np.loadtxt('filters/k_filter.txt',unpack=True)\n",
    "        center=2.159*1.0E4        #Angstroms\n",
    "        F0=4.283E-14        #KsHJUBVRI F0 have units W cm^-2 micron^-1\n",
    "   \n",
    "    elif band=='H':\n",
    "        bandwav,bandpass=np.loadtxt('filters/h_filter.txt',unpack=True)\n",
    "        center=1.662*1.0E4\n",
    "        F0=1.133E-13\n",
    "\n",
    "    elif band=='J':\n",
    "        bandwav,bandpass=np.loadtxt('filters/j_filter.txt',unpack=True)\n",
    "        center=1.235*1.0E4\n",
    "        F0=3.129E-13\n",
    "\n",
    "    elif band=='U':\n",
    "        bandwav,bandpass=np.loadtxt('filters/bessell_U.dat',unpack=True)\n",
    "        center=0.365*1.0E4\n",
    "        F0=4.19E-12\n",
    "\n",
    "    elif band=='B':\n",
    "        bandwav,bandpass=np.loadtxt('filters/bessell_B.dat',unpack=True)\n",
    "        center=0.445*1.0E4\n",
    "        F0=6.60E-12\n",
    "\n",
    "    elif band=='V':\n",
    "        bandwav,bandpass=np.loadtxt('filters/bessell_V.dat',unpack=True)\n",
    "        center=0.551*1.0E4\n",
    "        F0=3.61E-12\n",
    "\n",
    "    elif band=='R':\n",
    "        bandwav,bandpass=np.loadtxt('filters/bessell_R.dat',unpack=True)\n",
    "        center=0.658*1.0E4\n",
    "        F0=2.25E-12\n",
    "\n",
    "    elif band=='I':\n",
    "        bandwav,bandpass=np.loadtxt('filters/bessell_I.dat',unpack=True)\n",
    "        center=0.806*1.0E4\n",
    "        F0=1.22E-12\n",
    "                                      #SDSS centers/widths/F0 from http://www.astronomy.ohio-state.edu/~martini/usefuldata.html\n",
    "    elif band=='u':                   #NOTE: ugriz filters are on the AB magnitude system, KsHJUBVRI are on the Vega system\n",
    "        bandwav,bandpass=np.loadtxt('filters/u_filter.txt',unpack=True)\n",
    "        center=0.356*1.0E4         \n",
    "        F0=0.8595E-11        #ugriz F0 have units erg/cm^2/s/Angstrom\n",
    "        \n",
    "    elif band=='g':\n",
    "        bandwav,bandpass=np.loadtxt('filters/g_filter.txt',unpack=True)\n",
    "        center=0.483*1.0E4\n",
    "        F0=0.4669E-11\n",
    "        \n",
    "    elif band=='r':\n",
    "        bandwav,bandpass=np.loadtxt('filters/r_filter.txt',unpack=True)\n",
    "        center=0.626*1.0E4\n",
    "        F0=0.2780E-11\n",
    "    \n",
    "    elif band=='i':\n",
    "        bandwav,bandpass=np.loadtxt('filters/i_filter.txt',unpack=True)\n",
    "        center=0.767*1.0E4\n",
    "        F0=0.1852E-11\n",
    "    \n",
    "    elif band=='z':\n",
    "        bandwav,bandpass=np.loadtxt('filters/u_filter.txt',unpack=True)\n",
    "        center=0.910*1.0E4\n",
    "        F0=0.1315E-11\n",
    "    \n",
    "    '''elif band=='Kep':\n",
    "        bandwav,bandpass=np.loadtxt()\n",
    "        center=6400/10**4\n",
    "        F0= '''\n",
    "    \n",
    "    if band=='Ks' or band=='H' or band=='J' or band=='U' or band=='V' or band=='B' or band=='R' or band=='I':\n",
    "        F0=F0*1.0E3 #convert to ergs/cm^2/s/Angstrom\n",
    "        \n",
    "    #other bands already have 0-point flux in ergs/cm^2/s/Angstrom\n",
    "\n",
    "    filterband=np.zeros(wavelength.size)\n",
    "\n",
    "    \n",
    "    bandinterp=interp.interp1d(bandwav,bandpass)\n",
    "            #1D function between bandwav(x) and bandpass(y), y=f(x)\n",
    "        \n",
    "    inband=np.logical_and(wavelength>bandwav[0],wavelength<bandwav[-1] )\n",
    "            #Array of 'True's where wavelength is in range of bandwav, 'False's outside of that range. Basically just an index of bandwav in wavelength array\n",
    "        \n",
    "    filterband[inband]=bandinterp(wavelength[inband])\n",
    "            #Ignore all values of bandpass outside of filter range. Now filterband is the same shape as wavelength and flux\n",
    "        \n",
    "    dwav=np.zeros(wavelength.size)\n",
    "        \n",
    "    dwav[0:-1]=wavelength[1:]-wavelength[0:-1]\n",
    "    \n",
    "    \n",
    "    mag=2.5*np.log10((np.sum(F0*dwav*filterband))/(np.sum(flux*dwav*filterband)))\n",
    "    \n",
    "    return mag\n",
    "    "
   ]
  },
  {
   "cell_type": "code",
   "execution_count": 623,
   "metadata": {
    "collapsed": true
   },
   "outputs": [],
   "source": [
    "def getFMext(x,R):\n",
    "    \n",
    "    \"\"\" Fitzpatrick 1999, spectroscopic\n",
    "\n",
    "        Inputs:  x = inverse wavelength in microns\n",
    "                R = ratio of A_V to E(B-V)\n",
    "                \n",
    "        Outputs:  returns Al/AV in magnitude units\n",
    "    \"\"\"\n",
    "    \n",
    "    from scipy.interpolate import interp1d\n",
    "    \n",
    "    import numpy as np\n",
    "\n",
    "    f99_anchor = 1.0E4 / np.array([np.inf, 26500., 12200., 6000., 5470., 4670., 4110., 2700., 2600.]) #microns\n",
    "    #np.array creates an array\n",
    "    #np.inf sets value to infinity\n",
    "    #\"anchor\" wavelengths for the function to come--what is the pattern here?\n",
    "    #x axis values\n",
    "    \n",
    "    a6000=-0.426+1.0044*R\n",
    "    a5470=-0.050+1.0016*R\n",
    "    a4670= 0.701+1.0016*R\n",
    "    a4110= 1.208+1.0032*R-0.00033*R**2\n",
    "    #for values in array, apply R in some way\n",
    "    #create new values using R. Where do coefficients of R come from?\n",
    "\n",
    "    af99_anchor = np.array([0.0, 0.265, 0.829, a6000, a5470, a4670, a4110, 6.265, 6.591])/3.1\n",
    "    #same shape as previous array so function can be created\n",
    "    #create a new array, replacing numbers from original array with their corresponding constant\n",
    "    #divide by 3.1: comparing to the \"standard\" R value of 3.1?\n",
    "    #y axis values--tell extinction pattern of \"anchor values\"?\n",
    "    \n",
    "    f=interp1d(f99_anchor,af99_anchor, kind='cubic') \n",
    "    #create a 2-variable function between the two arrays, wavelength and magnitude of extinction\n",
    "    #find a function of frequency (1/wavelength)\n",
    "    \n",
    "    return f(x)\n",
    "    #A_lambda/A_V:a different value for each input wavelength (continuous function)"
   ]
  },
  {
   "cell_type": "code",
   "execution_count": 624,
   "metadata": {
    "collapsed": true
   },
   "outputs": [],
   "source": [
    "import numpy as np\n",
    "from matplotlib import pyplot as plt\n",
    "import astropy\n",
    "import pandas as pd\n",
    "from scipy.interpolate import interp1d\n",
    "\n",
    "from astropy.io import fits\n",
    "\n",
    "%matplotlib inline"
   ]
  },
  {
   "cell_type": "markdown",
   "metadata": {},
   "source": [
    "### Part 2: Spectra Models for Various Extinction Magnitudes"
   ]
  },
  {
   "cell_type": "code",
   "execution_count": 625,
   "metadata": {
    "collapsed": false
   },
   "outputs": [],
   "source": [
    "model_wavelengths=get_model('5700')[0]\n",
    "model_spectrum=get_model('5700')[1]/10000/10000"
   ]
  },
  {
   "cell_type": "code",
   "execution_count": 626,
   "metadata": {
    "collapsed": true
   },
   "outputs": [],
   "source": [
    "AlAv=getFMext(1.0/model_wavelengths,3.1)\n",
    "#Use Z=Y*10.0**(-0.4*AlAv) for reddened spectra\n",
    "#Multiply exponent by desired magnitude of extinction"
   ]
  },
  {
   "cell_type": "code",
   "execution_count": 627,
   "metadata": {
    "collapsed": true
   },
   "outputs": [],
   "source": [
    "one_extinction=model_spectrum*10.0**(-0.4*AlAv) #use reddened spectra as new initial spectra\n",
    "two_extinctions=one_extinction*10.0**(-0.4*AlAv)\n",
    "three_extinctions=two_extinctions*10.0**(-0.4*AlAv)\n",
    "four_extinctions=three_extinctions*10.0**(-0.4*AlAv)"
   ]
  },
  {
   "cell_type": "code",
   "execution_count": 628,
   "metadata": {
    "collapsed": false
   },
   "outputs": [
    {
     "data": {
      "text/plain": [
       "<matplotlib.text.Text at 0x1aceb1350>"
      ]
     },
     "execution_count": 628,
     "metadata": {},
     "output_type": "execute_result"
    },
    {
     "data": {
      "image/png": "[encoded data removed]",
      "text/plain": [
       "<matplotlib.figure.Figure at 0x1a4c14b10>"
      ]
     },
     "metadata": {},
     "output_type": "display_data"
    }
   ],
   "source": [
    "plt.plot(model_wavelengths,model_spectrum,label=\"no extinction\")\n",
    "plt.plot(model_wavelengths,one_extinction,label=\"A_V = 1 extinction\")\n",
    "plt.plot(model_wavelengths,two_extinctions,label=\"A_V = 2 extinctions\")\n",
    "plt.plot(model_wavelengths,three_extinctions,label=\"A_V = 3 extinctions\")\n",
    "plt.legend()\n",
    "plt.xlabel(\"wavelength (microns)\")\n",
    "plt.ylabel(\"flux density (erg/s/cm^2/cm)\")"
   ]
  },
  {
   "cell_type": "markdown",
   "metadata": {},
   "source": [
    "### Part 3: Photometry (Band Magnitudes and Extinction)"
   ]
  },
  {
   "cell_type": "code",
   "execution_count": 629,
   "metadata": {
    "collapsed": false
   },
   "outputs": [],
   "source": [
    "def getMags(wavelength,unextinguishedspectra,oneextinction,twoextinctions,threeextinctions,fourextinctions):\n",
    "    KmagA=getMag_hires('Ks',wavelength,unextinguishedspectra)\n",
    "    VmagA=getMag_hires('V',wavelength,unextinguishedspectra)\n",
    "    VminKA=VmagA-KmagA\n",
    "\n",
    "    KmagB=getMag_hires('Ks',wavelength,oneextinction) \n",
    "    VmagB=getMag_hires('V',wavelength,oneextinction)\n",
    "    VminKB=VmagB-KmagB\n",
    "\n",
    "    KmagC=getMag_hires('Ks',wavelength,twoextinctions)\n",
    "    VmagC=getMag_hires('V',wavelength,twoextinctions)\n",
    "    VminKC=VmagC-KmagC\n",
    "\n",
    "    KmagD=getMag_hires('Ks',wavelength,threeextinctions)\n",
    "    VmagD=getMag_hires('V',wavelength,threeextinctions)\n",
    "    VminKD=VmagD-KmagD\n",
    "    \n",
    "    KmagE=getMag_hires('Ks',wavelength,fourextinctions)\n",
    "    VmagE=getMag_hires('V',wavelength,fourextinctions)\n",
    "    VminKE=VmagE-KmagE\n",
    "    return ('K',KmagA,'V',VmagA,'V-K',VminKA,KmagB,VmagB,VminKB,KmagC,VmagC,VminKC,KmagD,VmagD,VminKD,KmagE,VmagE,VminKE)\n",
    "\n",
    "\n",
    "#convert some wavelengths to microns, but use angstrom keyword for each one\n",
    "#'Ks' filter is expecting a spectrum input in microns \n",
    "#'V' filter is expecting a spectrum input in angstroms, so no conversion needed\n",
    "\n",
    "#conversion previously necessary because of these lines of code:\n",
    "#  #if band=='U'or band=='B'or band=='V'or band=='R'or band=='I'or band=='u'or band=='g'or band=='r'or band=='i'or band=='z':\n",
    "        #bandwav=[i/1.0E4 for i in bandwav]                     #Convert bandwav from Angstroms to microns\n",
    "                                                               #now all filters are in Angstroms--see line below\n",
    "\n",
    "#now using bandwav=[i/1.0E4 for i in bandwav], conversion not necessary (applies to all filters)"
   ]
  },
  {
   "cell_type": "code",
   "execution_count": 630,
   "metadata": {
    "collapsed": false
   },
   "outputs": [
    {
     "data": {
      "text/plain": [
       "('K',\n",
       " -19.920097693628644,\n",
       " 'V',\n",
       " -18.343470696210712,\n",
       " 'V-K',\n",
       " 1.5766269974179323,\n",
       " -19.807455966202955,\n",
       " -17.361298235549878,\n",
       " 2.4461577306530771,\n",
       " -19.694851120790396,\n",
       " -16.386396339953681,\n",
       " 3.3084547808367155,\n",
       " -19.582283123282778,\n",
       " -15.418870078859019,\n",
       " 4.1634130444237591,\n",
       " -19.469751931947791,\n",
       " -14.458802504212402,\n",
       " 5.0109494277353885)"
      ]
     },
     "execution_count": 630,
     "metadata": {},
     "output_type": "execute_result"
    }
   ],
   "source": [
    "starmags=getMags(model_wavelengths,model_spectrum,one_extinction,two_extinctions,three_extinctions,four_extinctions)\n",
    "starmags"
   ]
  },
  {
   "cell_type": "markdown",
   "metadata": {
    "collapsed": true
   },
   "source": [
    "### Part 4: Checking extinction for a spectrum plus a blackbody"
   ]
  },
  {
   "cell_type": "code",
   "execution_count": 631,
   "metadata": {
    "collapsed": false
   },
   "outputs": [],
   "source": [
    "# Build a wavelength vector\n",
    "dwav=0.001\n",
    "wav=np.arange(0.29,2.51,dwav) #wavelength = microns #range of PHOENIX spectra is 0.3 to 2.5 microns\n",
    "\n",
    "def planck_sed(wav,T):\n",
    "# Source blackbody emission: wavelength in microns, temp in Kelvin\n",
    "# Output is SED (Spectral Energy Distribution)\n",
    "# Units are SI W/m^2/m\n",
    "\n",
    "    l=wav*1E-6\n",
    "    h=6.62606957*(10**-34.0)\n",
    "    c=3.00*(10**8.0)\n",
    "    k=1.3806488*(10**-23.0)\n",
    "    \n",
    "    x=(2.0*3.14*h*c**2.0/l**5.0)\n",
    "    \n",
    "    exponent = h*c/(k*T*l)\n",
    "                 \n",
    "    ex = np.exp(exponent)-1\n",
    "\n",
    "    PLANCK=(x)*(ex**-1)\n",
    "    \n",
    "    return PLANCK*(10**7)/10000/(10**10)"
   ]
  },
  {
   "cell_type": "code",
   "execution_count": 632,
   "metadata": {
    "collapsed": false
   },
   "outputs": [],
   "source": [
    "modelwavelengths = (get_model('5700'))[0] #microns\n",
    "modelflux = (get_model('5700')[1])/10000/10000 #erg/cm^2/s/Angstrom\n",
    "\n",
    "fluxdist = (planck_sed(wav,1200)) #units: J/s/m^2/m conv to erg/cm^2/s/Angstrom\n",
    "                                  #flux distribution for a 1200K blackbody\n",
    "\n",
    "bbwavelengths = wav #microns\n",
    "bbflux = 10e2*fluxdist \n",
    "\n",
    "blackbodyf= interp1d(bbwavelengths, bbflux)\n",
    "#interpolate each to make a continuous function for bb flux\n",
    "#add fluxes together, keeping wavelength on the same scale\n",
    "\n",
    "totalflux = blackbodyf(modelwavelengths) + modelflux"
   ]
  },
  {
   "cell_type": "code",
   "execution_count": 633,
   "metadata": {
    "collapsed": false
   },
   "outputs": [
    {
     "data": {
      "text/plain": [
       "[<matplotlib.lines.Line2D at 0x1a8ee9a90>]"
      ]
     },
     "execution_count": 633,
     "metadata": {},
     "output_type": "execute_result"
    },
    {
     "data": {
      "image/png": "[encoded data removed]",
      "text/plain": [
       "<matplotlib.figure.Figure at 0x1a4c0e490>"
      ]
     },
     "metadata": {},
     "output_type": "display_data"
    }
   ],
   "source": [
    "plt.plot(bbwavelengths,fluxdist)\n",
    "plt.plot(bbwavelengths,bbflux)\n",
    "plt.plot(modelwavelengths,modelflux)"
   ]
  },
  {
   "cell_type": "code",
   "execution_count": 634,
   "metadata": {
    "collapsed": false
   },
   "outputs": [
    {
     "data": {
      "text/plain": [
       "[<matplotlib.lines.Line2D at 0x1b2f291d0>]"
      ]
     },
     "execution_count": 634,
     "metadata": {},
     "output_type": "execute_result"
    },
    {
     "data": {
      "image/png": "[encoded data removed]",
      "text/plain": [
       "<matplotlib.figure.Figure at 0x1b207d050>"
      ]
     },
     "metadata": {},
     "output_type": "display_data"
    }
   ],
   "source": [
    "plt.plot(modelwavelengths, modelflux)\n",
    "plt.plot(wav, planck_sed(wav,5700))\n",
    "plt.plot(wav,planck_sed(wav,6000))\n",
    "plt.plot(wav,planck_sed(wav,5000))\n",
    "plt.plot(wav,planck_sed(wav,3000))\n",
    "plt.plot(wav,1000*planck_sed(wav,1200))"
   ]
  },
  {
   "cell_type": "code",
   "execution_count": 635,
   "metadata": {
    "collapsed": false
   },
   "outputs": [
    {
     "data": {
      "text/plain": [
       "<matplotlib.text.Text at 0x1b45da290>"
      ]
     },
     "execution_count": 635,
     "metadata": {},
     "output_type": "execute_result"
    },
    {
     "data": {
      "image/png": "[encoded data removed]",
      "text/plain": [
       "<matplotlib.figure.Figure at 0x1b20e2710>"
      ]
     },
     "metadata": {},
     "output_type": "display_data"
    }
   ],
   "source": [
    "AlAv=getFMext(1.0/modelwavelengths,3.1)\n",
    "one_extinction=totalflux*10.0**(-0.4*AlAv)\n",
    "two_extinctions=totalflux*10.0**(-0.4*AlAv*2.0)\n",
    "three_extinctions=totalflux*10.0**(-0.4*AlAv*3.0)\n",
    "four_extinctions=totalflux*10.0**(-0.4*AlAv*4.0)\n",
    "#Multiply exponent by desired magnitude of extinct\n",
    "\n",
    "plt.plot(modelwavelengths,totalflux,label=\"no extinction\")\n",
    "plt.plot(modelwavelengths,totalflux*10.0**(-0.4*AlAv),label=\"A_V = 1 extinction\")\n",
    "plt.plot(modelwavelengths,totalflux*10.0**(-0.4*AlAv*2.0),label=\"A_V = 2 extinctions\")\n",
    "plt.plot(modelwavelengths,totalflux*10.0**(-0.4*AlAv*3.0),label=\"A_V = 3 extinctions\")\n",
    "plt.plot(modelwavelengths,totalflux*10.0**(-0.4*AlAv*4.0),label=\"A_V = 4 extinctions\")\n",
    "plt.legend()\n",
    "plt.xlabel(\"wavelength (microns)\")\n",
    "plt.ylabel(\"flux density (erg/s/cm^2/micron)\")"
   ]
  },
  {
   "cell_type": "code",
   "execution_count": 636,
   "metadata": {
    "collapsed": false
   },
   "outputs": [
    {
     "data": {
      "text/plain": [
       "('K',\n",
       " -22.275221984788441,\n",
       " 'V',\n",
       " -18.343531628379516,\n",
       " 'V-K',\n",
       " 3.9316903564089252,\n",
       " -22.163535987789245,\n",
       " -17.361365216647325,\n",
       " 4.8021707711419204,\n",
       " -22.051885512378881,\n",
       " -16.386469956902427,\n",
       " 5.6654155554764536,\n",
       " -21.94027048887353,\n",
       " -15.418950944770778,\n",
       " 6.5213195441027523,\n",
       " -21.828690846618937,\n",
       " -14.458891262683295,\n",
       " 7.3697995839356416)"
      ]
     },
     "execution_count": 636,
     "metadata": {},
     "output_type": "execute_result"
    }
   ],
   "source": [
    "starplusbbmags=getMags(modelwavelengths,totalflux,one_extinction,two_extinctions,three_extinctions,four_extinctions)\n",
    "starplusbbmags"
   ]
  },
  {
   "cell_type": "markdown",
   "metadata": {},
   "source": [
    "### Part 5: Plotting V-K vs V"
   ]
  },
  {
   "cell_type": "code",
   "execution_count": 637,
   "metadata": {
    "collapsed": true
   },
   "outputs": [],
   "source": [
    "#V and V-K for 5700K star and 1200K BB scaled by 1000\n",
    "starplusbbV=[starplusbbmags[3],starplusbbmags[7],starplusbbmags[10],starplusbbmags[13],starplusbbmags[16]]\n",
    "starplusbbVminK=[starplusbbmags[5],starplusbbmags[8],starplusbbmags[11],starplusbbmags[14],starplusbbmags[17]]\n",
    "\n",
    "#V and V-K for 5700K star and no BB\n",
    "starV=[starmags[3],starmags[7],starmags[10],starmags[13],starmags[16]]\n",
    "starVminK=[starmags[5],starmags[8],starmags[11],starmags[14],starmags[17]]\n",
    "\n",
    "#defining flux for 5700K star and BB scaled by 5\n",
    "totalfluxtwo=(.005*blackbodyf(modelwavelengths) + modelflux)\n",
    "\n",
    "oneextinction_two=(0.5*blackbodyf(modelwavelengths) + modelflux)*10.0**(-0.4*AlAv)\n",
    "twoextinctions_two=(0.5*blackbodyf(modelwavelengths) + modelflux)*10.0**(-0.4*AlAv*2.0)\n",
    "threeextinctions_two=(0.5*blackbodyf(modelwavelengths) + modelflux)*10.0**(-0.4*AlAv*3.0)\n",
    "fourextinctions_two=(0.5*blackbodyf(modelwavelengths) + modelflux)*10.0**(-0.4*AlAv*4.0)\n",
    "starplusbbmagstwo=getMags(modelwavelengths,totalfluxtwo,oneextinction_two,twoextinctions_two,threeextinctions_two,fourextinctions_two)\n",
    "\n",
    "#V and v-K for 5700K star and BB scaled by 5\n",
    "starplusbbVtwo=[starplusbbmagstwo[3],starplusbbmagstwo[7],starplusbbmagstwo[10],starplusbbmagstwo[13],starplusbbmagstwo[16]]\n",
    "starplusbbVminKtwo=[starplusbbmagstwo[5],starplusbbmagstwo[8],starplusbbmagstwo[11],starplusbbmagstwo[14],starplusbbmagstwo[17]]"
   ]
  },
  {
   "cell_type": "code",
   "execution_count": 643,
   "metadata": {
    "collapsed": false
   },
   "outputs": [
    {
     "data": {
      "text/plain": [
       "<matplotlib.text.Text at 0x1b4fcf310>"
      ]
     },
     "execution_count": 643,
     "metadata": {},
     "output_type": "execute_result"
    },
    {
     "data": {
      "image/png": "[encoded data removed]",
      "text/plain": [
       "<matplotlib.figure.Figure at 0x1af4184d0>"
      ]
     },
     "metadata": {},
     "output_type": "display_data"
    }
   ],
   "source": [
    "plt.scatter(starplusbbVminK,starplusbbV,label=\"Star and 1200K Blackbody scaled by 1000\")\n",
    "plt.scatter(starVminK,starV,label=\"Star Only\",color='green')\n",
    "plt.scatter(starplusbbVminKtwo,starplusbbVtwo,color='red', label=\"Star and 1200K Blackbody scaled by 5\")\n",
    "plt.gca().invert_yaxis()\n",
    "plt.legend(loc='lower left',fancybox=True, framealpha=0.1)\n",
    "plt.xlabel(\"V - K\")\n",
    "plt.ylabel(\"V\")\n",
    "plt.title('V vs. V-K')\n",
    "#switch V axis so goes from large to small instead of small to large"
   ]
  },
  {
   "cell_type": "code",
   "execution_count": 639,
   "metadata": {
    "collapsed": false
   },
   "outputs": [
    {
     "data": {
      "text/plain": [
       "array([  1.12987233, -22.7867489 ])"
      ]
     },
     "execution_count": 639,
     "metadata": {},
     "output_type": "execute_result"
    }
   ],
   "source": [
    "np.polyfit(starplusbbVminK, starplusbbV, 1)"
   ]
  },
  {
   "cell_type": "code",
   "execution_count": 640,
   "metadata": {
    "collapsed": false
   },
   "outputs": [
    {
     "data": {
      "text/plain": [
       "array([  1.13112623, -20.12775144])"
      ]
     },
     "execution_count": 640,
     "metadata": {},
     "output_type": "execute_result"
    }
   ],
   "source": [
    "np.polyfit(starVminK, starV, 1)"
   ]
  },
  {
   "cell_type": "code",
   "execution_count": 641,
   "metadata": {
    "collapsed": true
   },
   "outputs": [],
   "source": [
    "#slopes are already different at 4 extinctions"
   ]
  }
 ],
 "metadata": {
  "kernelspec": {
   "display_name": "Python 2",
   "language": "python",
   "name": "python2"
  },
  "language_info": {
   "codemirror_mode": {
    "name": "ipython",
    "version": 2
   },
   "file_extension": ".py",
   "mimetype": "text/x-python",
   "name": "python",
   "nbconvert_exporter": "python",
   "pygments_lexer": "ipython2",
   "version": "2.7.11"
  }
 },
 "nbformat": 4,
 "nbformat_minor": 0
}
