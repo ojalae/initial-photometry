{
 "cells": [
  {
   "cell_type": "markdown",
   "metadata": {},
   "source": [
    "### Useful Functions"
   ]
  },
  {
   "cell_type": "code",
   "execution_count": 77,
   "metadata": {
    "collapsed": true
   },
   "outputs": [],
   "source": [
    "def get_model( temp ):\n",
    "    '''\n",
    "    Function opens Phoenix file of specified temperature in 100 Kelvin increments from 2300 to 12000 Kelvin.\n",
    "    Parameters\n",
    "    ----------\n",
    "    temp: str\n",
    "        Desired temperature in 100K increments from 2300 to 12,000 Kelvin\n",
    "        \n",
    "    Returns\n",
    "    -------\n",
    "    wavelength: array\n",
    "        Associated wavelengths for flux measurements from Phoenix FITS file, in Angstroms\n",
    "        \n",
    "    flux: array\n",
    "        Flux measurements from Phoenix FITS file, in erg/s/cm^2\n",
    "        \n",
    "    temp: str\n",
    "        See Parameters\n",
    "    '''\n",
    "    model_file = 'Med_Res_10K_Grid/lte0' + temp + '-4.50-0.0.PHOENIX-ACES-AGSS-COND-2011-HiRes.fits'\n",
    "    #what are the numbers here? -4.50-0.0\n",
    "    hdulist = fits.open(model_file)\n",
    "    flux = hdulist[0].data\n",
    "    wavelength = np.exp(hdulist[0].header[('CRVAL1')]+hdulist[0].header[('CDELT1')]*np.arange(0,212027))/(10**4)\n",
    "    return wavelength,flux"
   ]
  },
  {
   "cell_type": "code",
   "execution_count": 78,
   "metadata": {
    "collapsed": true
   },
   "outputs": [],
   "source": [
    "def getMag_hires(band,wavelength,flux):\n",
    "    #PHOENIX flux is erg/s/cm^2/cm\n",
    "    \n",
    "    import numpy as np\n",
    "    import scipy.interpolate as interp\n",
    "    \n",
    "    wavelength= wavelength*1.0E4 #convert input wavelength to Angstroms\n",
    "    flux=flux*1.0E-8 #convert input flux to ergs/cm^2/s/Angstrom\n",
    "    \n",
    "    '''if band=='Ks':\n",
    "        bandwav,bandpass=np.loadtxt(\"../DATA/Ks_2MASS.txt\",unpack=True)    # micron\n",
    "        center=2.159\n",
    "        F0= 4.283E-14        # W cm^-2 micron^-1\n",
    "\n",
    "    elif band=='H':\n",
    "        bandwav,bandpass=np.loadtxt(\"../DATA/H_2MASS.txt\",unpack=True)\n",
    "        center=1.662\n",
    "        F0= 1.133E-13\n",
    "    \n",
    "    elif band=='J':\n",
    "        bandwav,bandpass=numpy.loadtxt(\"../DATA/J_2MASS.txt\",unpack=True)\n",
    "        center=1.235\n",
    "        F0= 3.129E-13'''\n",
    "    \n",
    "    #All filters are in Angstroms\n",
    "    #code was written when: Units of Ks, H and J filters are microns, all other filters in Angstroms\n",
    "    \n",
    "    \n",
    "    if band=='Ks':\n",
    "        bandwav,bandpass=np.loadtxt('filters/k_filter.txt',unpack=True)\n",
    "        center=2.159*1.0E4        #Angstroms\n",
    "        F0=4.283E-14        #KsHJUBVRI F0 have units W cm^-2 micron^-1\n",
    "   \n",
    "    elif band=='H':\n",
    "        bandwav,bandpass=np.loadtxt('filters/h_filter.txt',unpack=True)\n",
    "        center=1.662*1.0E4\n",
    "        F0=1.133E-13\n",
    "\n",
    "    elif band=='J':\n",
    "        bandwav,bandpass=np.loadtxt('filters/j_filter.txt',unpack=True)\n",
    "        center=1.235*1.0E4\n",
    "        F0=3.129E-13\n",
    "\n",
    "    elif band=='U':\n",
    "        bandwav,bandpass=np.loadtxt('filters/bessell_U.dat',unpack=True)\n",
    "        center=0.365*1.0E4\n",
    "        F0=4.19E-12\n",
    "\n",
    "    elif band=='B':\n",
    "        bandwav,bandpass=np.loadtxt('filters/bessell_B.dat',unpack=True)\n",
    "        center=0.445*1.0E4\n",
    "        F0=6.60E-12\n",
    "\n",
    "    elif band=='V':\n",
    "        bandwav,bandpass=np.loadtxt('filters/bessell_V.dat',unpack=True)\n",
    "        center=0.551*1.0E4\n",
    "        F0=3.61E-12\n",
    "\n",
    "    elif band=='R':\n",
    "        bandwav,bandpass=np.loadtxt('filters/bessell_R.dat',unpack=True)\n",
    "        center=0.658*1.0E4\n",
    "        F0=2.25E-12\n",
    "\n",
    "    elif band=='I':\n",
    "        bandwav,bandpass=np.loadtxt('filters/bessell_I.dat',unpack=True)\n",
    "        center=0.806*1.0E4\n",
    "        F0=1.22E-12\n",
    "                                      #SDSS centers/widths/F0 from http://www.astronomy.ohio-state.edu/~martini/usefuldata.html\n",
    "    elif band=='u':                   #NOTE: ugriz filters are on the AB magnitude system, KsHJUBVRI are on the Vega system\n",
    "        bandwav,bandpass=np.loadtxt('filters/u_filter.txt',unpack=True)\n",
    "        center=0.356*1.0E4         \n",
    "        F0=0.8595E-11        #ugriz F0 have units erg/cm^2/s/Angstrom\n",
    "        \n",
    "    elif band=='g':\n",
    "        bandwav,bandpass=np.loadtxt('filters/g_filter.txt',unpack=True)\n",
    "        center=0.483*1.0E4\n",
    "        F0=0.4669E-11\n",
    "        \n",
    "    elif band=='r':\n",
    "        bandwav,bandpass=np.loadtxt('filters/r_filter.txt',unpack=True)\n",
    "        center=0.626*1.0E4\n",
    "        F0=0.2780E-11\n",
    "    \n",
    "    elif band=='i':\n",
    "        bandwav,bandpass=np.loadtxt('filters/i_filter.txt',unpack=True)\n",
    "        center=0.767*1.0E4\n",
    "        F0=0.1852E-11\n",
    "    \n",
    "    elif band=='z':\n",
    "        bandwav,bandpass=np.loadtxt('filters/u_filter.txt',unpack=True)\n",
    "        center=0.910*1.0E4\n",
    "        F0=0.1315E-11\n",
    "    \n",
    "    '''elif band=='Kep':\n",
    "        bandwav,bandpass=np.loadtxt()\n",
    "        center=6400/10**4\n",
    "        F0= '''\n",
    "    \n",
    "    if band=='Ks' or band=='H' or band=='J' or band=='U' or band=='V' or band=='B' or band=='R' or band=='I':\n",
    "        F0=F0*1.0E3 #convert to ergs/cm^2/s/Angstrom\n",
    "        \n",
    "    #other bands already have 0-point flux in ergs/cm^2/s/Angstrom\n",
    "\n",
    "    filterband=np.zeros(wavelength.size)\n",
    "\n",
    "    \n",
    "    bandinterp=interp.interp1d(bandwav,bandpass)\n",
    "            #1D function between bandwav(x) and bandpass(y), y=f(x)\n",
    "        \n",
    "    inband=np.logical_and(wavelength>bandwav[0],wavelength<bandwav[-1] )\n",
    "            #Array of 'True's where wavelength is in range of bandwav, 'False's outside of that range. Basically just an index of bandwav in wavelength array\n",
    "        \n",
    "    filterband[inband]=bandinterp(wavelength[inband])\n",
    "            #Ignore all values of bandpass outside of filter range. Now filterband is the same shape as wavelength and flux\n",
    "        \n",
    "    dwav=np.zeros(wavelength.size)\n",
    "        \n",
    "    dwav[0:-1]=wavelength[1:]-wavelength[0:-1]\n",
    "    \n",
    "    \n",
    "    mag=2.5*np.log10((np.sum(F0*dwav*filterband))/(np.sum(flux*dwav*filterband)))\n",
    "    \n",
    "    return mag\n",
    "    "
   ]
  },
  {
   "cell_type": "code",
   "execution_count": 79,
   "metadata": {
    "collapsed": true
   },
   "outputs": [],
   "source": [
    "def getFMext(x,R):\n",
    "    \n",
    "    \"\"\" Fitzpatrick 1999, spectroscopic\n",
    "\n",
    "        Inputs:  x = inverse wavelength in microns\n",
    "                R = ratio of A_V to E(B-V)\n",
    "                \n",
    "        Outputs:  returns Al/AV in magnitude units\n",
    "    \"\"\"\n",
    "    \n",
    "    from scipy.interpolate import interp1d\n",
    "    \n",
    "    import numpy as np\n",
    "\n",
    "    f99_anchor = 1.0E4 / np.array([np.inf, 26500., 12200., 6000., 5470., 4670., 4110., 2700., 2600.]) #microns\n",
    "    #np.array creates an array\n",
    "    #np.inf sets value to infinity\n",
    "    #\"anchor\" wavelengths for the function to come--what is the pattern here?\n",
    "    #x axis values\n",
    "    \n",
    "    a6000=-0.426+1.0044*R\n",
    "    a5470=-0.050+1.0016*R\n",
    "    a4670= 0.701+1.0016*R\n",
    "    a4110= 1.208+1.0032*R-0.00033*R**2\n",
    "    #for values in array, apply R in some way\n",
    "    #create new values using R. Where do coefficients of R come from?\n",
    "\n",
    "    af99_anchor = np.array([0.0, 0.265, 0.829, a6000, a5470, a4670, a4110, 6.265, 6.591])/3.1\n",
    "    #same shape as previous array so function can be created\n",
    "    #create a new array, replacing numbers from original array with their corresponding constant\n",
    "    #divide by 3.1: comparing to the \"standard\" R value of 3.1?\n",
    "    #y axis values--tell extinction pattern of \"anchor values\"?\n",
    "    \n",
    "    f=interp1d(f99_anchor,af99_anchor, kind='cubic') \n",
    "    #create a 2-variable function between the two arrays, wavelength and magnitude of extinction\n",
    "    #find a function of frequency (1/wavelength)\n",
    "    \n",
    "    return f(x)\n",
    "    #A_lambda/A_V:a different value for each input wavelength (continuous function)"
   ]
  },
  {
   "cell_type": "code",
   "execution_count": 80,
   "metadata": {
    "collapsed": false
   },
   "outputs": [],
   "source": [
    "# Build a wavelength vector\n",
    "import numpy as np\n",
    "dwav=0.001\n",
    "wav=np.arange(0.29,2.51,dwav) #wavelength = microns #range of PHOENIX spectra is 0.3 to 2.5 microns\n",
    "\n",
    "def planck_sed(wav,T):\n",
    "# Source blackbody emission: wavelength in microns, temp in Kelvin\n",
    "# Output is SED (Spectral Energy Distribution)\n",
    "# Units are SI W/m^2/m\n",
    "\n",
    "    l=wav*1E-6\n",
    "    h=6.62606957*(10**-34.0)\n",
    "    c=3.00*(10**8.0)\n",
    "    k=1.3806488*(10**-23.0)\n",
    "    \n",
    "    x=(2.0*3.14*h*c**2.0/l**5.0)\n",
    "    \n",
    "    exponent = h*c/(k*T*l)\n",
    "                 \n",
    "    ex = np.exp(exponent)-1\n",
    "\n",
    "    PLANCK=(x)*(ex**-1)\n",
    "    \n",
    "    return PLANCK*(10**7)/10000/(10**10)"
   ]
  },
  {
   "cell_type": "code",
   "execution_count": 81,
   "metadata": {
    "collapsed": true
   },
   "outputs": [],
   "source": [
    "import numpy as np\n",
    "from matplotlib import pyplot as plt\n",
    "import astropy\n",
    "import pandas as pd\n",
    "from scipy.interpolate import interp1d\n",
    "\n",
    "from astropy.io import fits\n",
    "\n",
    "%matplotlib inline"
   ]
  },
  {
   "cell_type": "markdown",
   "metadata": {},
   "source": [
    "### The Plotting Function"
   ]
  },
  {
   "cell_type": "markdown",
   "metadata": {},
   "source": [
    "#### Outline"
   ]
  },
  {
   "cell_type": "code",
   "execution_count": 82,
   "metadata": {
    "collapsed": true
   },
   "outputs": [],
   "source": [
    "#1: get model spectrum for a temperature\n",
    "#2: apply extinction law and generate 20+ extinguished spectra\n",
    "#3: add an appropriately scaled (Estar = Ebb) blackbody to each of the extinguished spectra\n",
    "#4: calculate V and K band magnitudes for each spectrum\n",
    "#5: put magnitudes into a list for each spectrum\n",
    "#6: plot V vs V-K for each spectrum"
   ]
  },
  {
   "cell_type": "markdown",
   "metadata": {},
   "source": [
    "#### Code"
   ]
  },
  {
   "cell_type": "code",
   "execution_count": 83,
   "metadata": {
    "collapsed": false
   },
   "outputs": [],
   "source": [
    "def PlotExtinctions(temp,numpoints,plotcolor):\n",
    "    #define model spectrum\n",
    "    model_wavelengths = get_model(temp)[0]\n",
    "    model_spectrum = get_model(temp)[1]/10000/10000\n",
    "    \n",
    "    bbwavelengths = wav #microns\n",
    "    fluxdist = (planck_sed(wav,1200))\n",
    "    \n",
    "    #define bb scale factor\n",
    "    import scipy.integrate as integrate\n",
    "    star_output =integrate.simps(model_spectrum, x=model_wavelengths, even='avg')\n",
    "    bb_output = integrate.simps(bbwavelengths,x=fluxdist,even='avg')\n",
    "    bbscale = star_output/bb_output\n",
    "    \n",
    "    bbflux = bbscale*fluxdist \n",
    "    blackbodyf= interp1d(bbwavelengths, bbflux)\n",
    "    \n",
    "    #define extinction\n",
    "    Al_over_Av=getFMext(1.0/model_wavelengths,3.1)\n",
    "    #Use Z=Y*10.0**(-0.4*AlAv) for reddened spectra\n",
    "    #Multiply exponent by desired magnitude of extinction\n",
    "    \n",
    "    #generate 20 extinguished spectra and save them in a list for later use\n",
    "    x = 0\n",
    "    ext_spectrum_list = []\n",
    "    for x in range(0,numpoints-1):\n",
    "        one_extinction=model_spectrum*10.0**(-0.4*Al_over_Av*x)\n",
    "        ext_spectrum_list.append(one_extinction)\n",
    "        x = x + 1\n",
    "        if x == numpoints+1:\n",
    "            break\n",
    "    \n",
    "    #make a list wherein an appropriately scaled blackbody is added to each term\n",
    "    #of the previous list\n",
    "    y = 0\n",
    "    ext_spectrum_bb_list=ext_spectrum_list\n",
    "    for y in range(0,numpoints-1):\n",
    "        ext_spectrum_bb_list[y] = ext_spectrum_list[y] + blackbodyf(model_wavelengths)\n",
    "        y = y + 1\n",
    "        if y==numpoints+1:\n",
    "            break\n",
    "        \n",
    "    #apply getmag to each item in the list for V and K band\n",
    "    z = 0\n",
    "    V_K_mag_list = []\n",
    "    #V_list = []\n",
    "    #V_minus_K_list = []\n",
    "    for z in range(0,numpoints-1):\n",
    "        spectrum_flux = ext_spectrum_bb_list[z]\n",
    "        V_mag = getMag_hires('V',model_wavelengths,spectrum_flux)\n",
    "        K_mag = getMag_hires('Ks',model_wavelengths,spectrum_flux)\n",
    "        V_min_K=V_mag - K_mag\n",
    "        V_K_mag_list.append([V_mag,K_mag,V_min_K])\n",
    "        #V_list.append(V_mag)\n",
    "        #V_minus_K_list.append(V_min_K)\n",
    "        z = z + 1\n",
    "        if z == numpoints+1:\n",
    "            break\n",
    "    \n",
    "    #retrieve V and K magnitudes for each spectrum\n",
    "    # plot V and K magnitudes for each spectrum\n",
    "    q = 0\n",
    "    for q in range(0,numpoints-1):\n",
    "        plt.scatter((V_K_mag_list[q])[2], (V_K_mag_list[q])[0], color=plotcolor)\n",
    "        q = q + 1\n",
    "        if q == numpoints+1:\n",
    "            break\n",
    "            \n",
    "    #return information about slope and curvature\n",
    "    fit_info = np.polyfit(V_K_mag_list[2],V_K_mag_list[0] , 1)\n",
    "    slope = fit_info[0]\n",
    "    intercept = fit_info[1]\n",
    "    print('slope =', slope, 'intercept =', intercept)\n",
    "    print np.polyfit(V_K_mag_list[2],V_K_mag_list[0] , 1, full=True)\n"
   ]
  },
  {
   "cell_type": "markdown",
   "metadata": {},
   "source": [
    "### Plots"
   ]
  },
  {
   "cell_type": "code",
   "execution_count": 84,
   "metadata": {
    "collapsed": false
   },
   "outputs": [
    {
     "name": "stdout",
     "output_type": "stream",
     "text": [
      "('slope =', 0.95124122013477552, 'intercept =', -1.837140195235879)\n",
      "(array([ 0.95124122, -1.8371402 ]), array([ 1.40556538]), 2, array([ 1.29066302,  0.57809081]), 6.6613381477509392e-16)\n",
      "('slope =', 0.95124122013477552, 'intercept =', -1.837140195235879)\n",
      "(array([ 0.95124122, -1.8371402 ]), array([ 1.40556538]), 2, array([ 1.29066302,  0.57809081]), 6.6613381477509392e-16)\n"
     ]
    },
    {
     "data": {
      "text/plain": [
       "<matplotlib.text.Text at 0x12456ead0>"
      ]
     },
     "execution_count": 84,
     "metadata": {},
     "output_type": "execute_result"
    },
    {
     "data": {
      "image/png": "[encoded data removed]",
      "text/plain": [
       "<matplotlib.figure.Figure at 0x1208cbe90>"
      ]
     },
     "metadata": {},
     "output_type": "display_data"
    }
   ],
   "source": [
    "#run plotting function with a temperature\n",
    "PlotExtinctions('5700',10,'green')\n",
    "PlotExtinctions('5700',100,'green')\n",
    "plt.gca().invert_yaxis()\n",
    "plt.xlabel(\"V - K (color)\")\n",
    "plt.ylabel(\"V (magnitude)\")\n",
    "plt.title('V vs. V-K')\n"
   ]
  },
  {
   "cell_type": "code",
   "execution_count": 55,
   "metadata": {
    "collapsed": false
   },
   "outputs": [
    {
     "name": "stdout",
     "output_type": "stream",
     "text": [
      "('slope =', 0.95124122013477552, 'intercept =', -1.837140195235879)\n"
     ]
    },
    {
     "data": {
      "text/plain": [
       "(-7, -9)"
      ]
     },
     "execution_count": 55,
     "metadata": {},
     "output_type": "execute_result"
    },
    {
     "data": {
      "image/png": "[encoded data removed]",
      "text/plain": [
       "<matplotlib.figure.Figure at 0x11f82c0d0>"
      ]
     },
     "metadata": {},
     "output_type": "display_data"
    }
   ],
   "source": [
    "PlotExtinctions('5700',30,'green')\n",
    "plt.gca().invert_yaxis()\n",
    "plt.xlabel(\"V - K (color)\")\n",
    "plt.ylabel(\"V (magnitude)\")\n",
    "plt.title('V vs. V-K')\n",
    "plt.xlim([14.4,14.465])\n",
    "plt.ylim([-7,-9])"
   ]
  },
  {
   "cell_type": "code",
   "execution_count": 56,
   "metadata": {
    "collapsed": false
   },
   "outputs": [
    {
     "name": "stdout",
     "output_type": "stream",
     "text": [
      "('slope =', 0.95124122013477552, 'intercept =', -1.837140195235879)\n",
      "('slope =', 0.95124122013477552, 'intercept =', -1.837140195235879)\n"
     ]
    },
    {
     "data": {
      "text/plain": [
       "<matplotlib.text.Text at 0x121921350>"
      ]
     },
     "execution_count": 56,
     "metadata": {},
     "output_type": "execute_result"
    },
    {
     "data": {
      "image/png": "[encoded data removed]",
      "text/plain": [
       "<matplotlib.figure.Figure at 0x1208751d0>"
      ]
     },
     "metadata": {},
     "output_type": "display_data"
    }
   ],
   "source": [
    "#run plotting function with a temperature\n",
    "PlotExtinctions('5700',10,'green')\n",
    "PlotExtinctions('5700',3000,'green')\n",
    "plt.gca().invert_yaxis()\n",
    "plt.xlabel(\"V - K (color)\")\n",
    "plt.ylabel(\"V (magnitude)\")\n",
    "plt.title('V vs. V-K')"
   ]
  },
  {
   "cell_type": "code",
   "execution_count": 57,
   "metadata": {
    "collapsed": false
   },
   "outputs": [
    {
     "name": "stdout",
     "output_type": "stream",
     "text": [
      "('slope =', 0.94860162339426024, 'intercept =', -1.5067382010116184)\n",
      "('slope =', 0.94860162339426024, 'intercept =', -1.5067382010116184)\n"
     ]
    },
    {
     "data": {
      "text/plain": [
       "<matplotlib.text.Text at 0x1212856d0>"
      ]
     },
     "execution_count": 57,
     "metadata": {},
     "output_type": "execute_result"
    },
    {
     "data": {
      "image/png": "[encoded data removed]",
      "text/plain": [
       "<matplotlib.figure.Figure at 0x120109850>"
      ]
     },
     "metadata": {},
     "output_type": "display_data"
    }
   ],
   "source": [
    "PlotExtinctions('2300',4,'red')\n",
    "PlotExtinctions('2300',400,'red')\n",
    "plt.gca().invert_yaxis()\n",
    "plt.xlabel(\"V - K (color)\")\n",
    "plt.ylabel(\"V (magnitude)\")\n",
    "plt.title('V vs. V-K')"
   ]
  },
  {
   "cell_type": "code",
   "execution_count": 58,
   "metadata": {
    "collapsed": false
   },
   "outputs": [
    {
     "name": "stdout",
     "output_type": "stream",
     "text": [
      "('slope =', 0.94860162339426024, 'intercept =', -1.5067382010116184)\n"
     ]
    },
    {
     "data": {
      "text/plain": [
       "<matplotlib.text.Text at 0x120e16ed0>"
      ]
     },
     "execution_count": 58,
     "metadata": {},
     "output_type": "execute_result"
    },
    {
     "data": {
      "image/png": "[encoded data removed]",
      "text/plain": [
       "<matplotlib.figure.Figure at 0x120875dd0>"
      ]
     },
     "metadata": {},
     "output_type": "display_data"
    }
   ],
   "source": [
    "PlotExtinctions('2300',5,'red')\n",
    "plt.gca().invert_yaxis()\n",
    "plt.xlabel(\"V - K (color)\")\n",
    "plt.ylabel(\"V (magnitude)\")\n",
    "plt.title('V vs. V-K')"
   ]
  },
  {
   "cell_type": "code",
   "execution_count": null,
   "metadata": {
    "collapsed": true
   },
   "outputs": [],
   "source": []
  }
 ],
 "metadata": {
  "kernelspec": {
   "display_name": "Python 2",
   "language": "python",
   "name": "python2"
  },
  "language_info": {
   "codemirror_mode": {
    "name": "ipython",
    "version": 2
   },
   "file_extension": ".py",
   "mimetype": "text/x-python",
   "name": "python",
   "nbconvert_exporter": "python",
   "pygments_lexer": "ipython2",
   "version": "2.7.11"
  }
 },
 "nbformat": 4,
 "nbformat_minor": 0
}
