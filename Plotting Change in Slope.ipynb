{
 "cells": [
  {
   "cell_type": "markdown",
   "metadata": {},
   "source": [
    "### Useful Functions"
   ]
  },
  {
   "cell_type": "code",
   "execution_count": 3,
   "metadata": {
    "collapsed": true
   },
   "outputs": [],
   "source": [
    "def get_model( temp ):\n",
    "    '''\n",
    "    Function opens Phoenix file of specified temperature in 100 Kelvin increments from 2300 to 12000 Kelvin.\n",
    "    Parameters\n",
    "    ----------\n",
    "    temp: str\n",
    "        Desired temperature in 100K increments from 2300 to 12,000 Kelvin\n",
    "        \n",
    "    Returns\n",
    "    -------\n",
    "    wavelength: array\n",
    "        Associated wavelengths for flux measurements from Phoenix FITS file, in Angstroms\n",
    "        \n",
    "    flux: array\n",
    "        Flux measurements from Phoenix FITS file, in erg/s/cm^2\n",
    "        \n",
    "    temp: str\n",
    "        See Parameters\n",
    "    '''\n",
    "    model_file = 'Med_Res_10K_Grid/lte0' + temp + '-4.50-0.0.PHOENIX-ACES-AGSS-COND-2011-HiRes.fits'\n",
    "    #what are the numbers here? -4.50-0.0\n",
    "    hdulist = fits.open(model_file)\n",
    "    flux = hdulist[0].data\n",
    "    wavelength = np.exp(hdulist[0].header[('CRVAL1')]+hdulist[0].header[('CDELT1')]*np.arange(0,212027))/(10**4)\n",
    "    return wavelength,flux"
   ]
  },
  {
   "cell_type": "code",
   "execution_count": 4,
   "metadata": {
    "collapsed": true
   },
   "outputs": [],
   "source": [
    "def getMag_hires(band,wavelength,flux):\n",
    "    #PHOENIX flux is erg/s/cm^2/cm\n",
    "    \n",
    "    import numpy as np\n",
    "    import scipy.interpolate as interp\n",
    "    \n",
    "    wavelength= wavelength*1.0E4 #convert input wavelength to Angstroms\n",
    "    flux=flux*1.0E-8 #convert input flux to ergs/cm^2/s/Angstrom\n",
    "    \n",
    "    '''if band=='Ks':\n",
    "        bandwav,bandpass=np.loadtxt(\"../DATA/Ks_2MASS.txt\",unpack=True)    # micron\n",
    "        center=2.159\n",
    "        F0= 4.283E-14        # W cm^-2 micron^-1\n",
    "\n",
    "    elif band=='H':\n",
    "        bandwav,bandpass=np.loadtxt(\"../DATA/H_2MASS.txt\",unpack=True)\n",
    "        center=1.662\n",
    "        F0= 1.133E-13\n",
    "    \n",
    "    elif band=='J':\n",
    "        bandwav,bandpass=numpy.loadtxt(\"../DATA/J_2MASS.txt\",unpack=True)\n",
    "        center=1.235\n",
    "        F0= 3.129E-13'''\n",
    "    \n",
    "    #All filters are in Angstroms\n",
    "    #code was written when: Units of Ks, H and J filters are microns, all other filters in Angstroms\n",
    "    \n",
    "    \n",
    "    if band=='Ks':\n",
    "        bandwav,bandpass=np.loadtxt('filters/k_filter.txt',unpack=True)\n",
    "        center=2.159*1.0E4        #Angstroms\n",
    "        F0=4.283E-14        #KsHJUBVRI F0 have units W cm^-2 micron^-1\n",
    "   \n",
    "    elif band=='H':\n",
    "        bandwav,bandpass=np.loadtxt('filters/h_filter.txt',unpack=True)\n",
    "        center=1.662*1.0E4\n",
    "        F0=1.133E-13\n",
    "\n",
    "    elif band=='J':\n",
    "        bandwav,bandpass=np.loadtxt('filters/j_filter.txt',unpack=True)\n",
    "        center=1.235*1.0E4\n",
    "        F0=3.129E-13\n",
    "\n",
    "    elif band=='U':\n",
    "        bandwav,bandpass=np.loadtxt('filters/bessell_U.dat',unpack=True)\n",
    "        center=0.365*1.0E4\n",
    "        F0=4.19E-12\n",
    "\n",
    "    elif band=='B':\n",
    "        bandwav,bandpass=np.loadtxt('filters/bessell_B.dat',unpack=True)\n",
    "        center=0.445*1.0E4\n",
    "        F0=6.60E-12\n",
    "\n",
    "    elif band=='V':\n",
    "        bandwav,bandpass=np.loadtxt('filters/bessell_V.dat',unpack=True)\n",
    "        center=0.551*1.0E4\n",
    "        F0=3.61E-12\n",
    "\n",
    "    elif band=='R':\n",
    "        bandwav,bandpass=np.loadtxt('filters/bessell_R.dat',unpack=True)\n",
    "        center=0.658*1.0E4\n",
    "        F0=2.25E-12\n",
    "\n",
    "    elif band=='I':\n",
    "        bandwav,bandpass=np.loadtxt('filters/bessell_I.dat',unpack=True)\n",
    "        center=0.806*1.0E4\n",
    "        F0=1.22E-12\n",
    "                                      #SDSS centers/widths/F0 from http://www.astronomy.ohio-state.edu/~martini/usefuldata.html\n",
    "    elif band=='u':                   #NOTE: ugriz filters are on the AB magnitude system, KsHJUBVRI are on the Vega system\n",
    "        bandwav,bandpass=np.loadtxt('filters/u_filter.txt',unpack=True)\n",
    "        center=0.356*1.0E4         \n",
    "        F0=0.8595E-11        #ugriz F0 have units erg/cm^2/s/Angstrom\n",
    "        \n",
    "    elif band=='g':\n",
    "        bandwav,bandpass=np.loadtxt('filters/g_filter.txt',unpack=True)\n",
    "        center=0.483*1.0E4\n",
    "        F0=0.4669E-11\n",
    "        \n",
    "    elif band=='r':\n",
    "        bandwav,bandpass=np.loadtxt('filters/r_filter.txt',unpack=True)\n",
    "        center=0.626*1.0E4\n",
    "        F0=0.2780E-11\n",
    "    \n",
    "    elif band=='i':\n",
    "        bandwav,bandpass=np.loadtxt('filters/i_filter.txt',unpack=True)\n",
    "        center=0.767*1.0E4\n",
    "        F0=0.1852E-11\n",
    "    \n",
    "    elif band=='z':\n",
    "        bandwav,bandpass=np.loadtxt('filters/u_filter.txt',unpack=True)\n",
    "        center=0.910*1.0E4\n",
    "        F0=0.1315E-11\n",
    "    \n",
    "    '''elif band=='Kep':\n",
    "        bandwav,bandpass=np.loadtxt()\n",
    "        center=6400/10**4\n",
    "        F0= '''\n",
    "    \n",
    "    if band=='Ks' or band=='H' or band=='J' or band=='U' or band=='V' or band=='B' or band=='R' or band=='I':\n",
    "        F0=F0*1.0E3 #convert to ergs/cm^2/s/Angstrom\n",
    "        \n",
    "    #other bands already have 0-point flux in ergs/cm^2/s/Angstrom\n",
    "\n",
    "    filterband=np.zeros(wavelength.size)\n",
    "\n",
    "    \n",
    "    bandinterp=interp.interp1d(bandwav,bandpass)\n",
    "            #1D function between bandwav(x) and bandpass(y), y=f(x)\n",
    "        \n",
    "    inband=np.logical_and(wavelength>bandwav[0],wavelength<bandwav[-1] )\n",
    "            #Array of 'True's where wavelength is in range of bandwav, 'False's outside of that range. Basically just an index of bandwav in wavelength array\n",
    "        \n",
    "    filterband[inband]=bandinterp(wavelength[inband])\n",
    "            #Ignore all values of bandpass outside of filter range. Now filterband is the same shape as wavelength and flux\n",
    "        \n",
    "    dwav=np.zeros(wavelength.size)\n",
    "        \n",
    "    dwav[0:-1]=wavelength[1:]-wavelength[0:-1]\n",
    "    \n",
    "    \n",
    "    mag=2.5*np.log10((np.sum(F0*dwav*filterband))/(np.sum(flux*dwav*filterband)))\n",
    "    \n",
    "    return mag\n",
    "    "
   ]
  },
  {
   "cell_type": "code",
   "execution_count": 5,
   "metadata": {
    "collapsed": true
   },
   "outputs": [],
   "source": [
    "def getFMext(x,R):\n",
    "    \n",
    "    \"\"\" Fitzpatrick 1999, spectroscopic\n",
    "\n",
    "        Inputs:  x = inverse wavelength in microns\n",
    "                R = ratio of A_V to E(B-V)\n",
    "                \n",
    "        Outputs:  returns Al/AV in magnitude units\n",
    "    \"\"\"\n",
    "    \n",
    "    from scipy.interpolate import interp1d\n",
    "    \n",
    "    import numpy as np\n",
    "\n",
    "    f99_anchor = 1.0E4 / np.array([np.inf, 26500., 12200., 6000., 5470., 4670., 4110., 2700., 2600.]) #microns\n",
    "    #np.array creates an array\n",
    "    #np.inf sets value to infinity\n",
    "    #\"anchor\" wavelengths for the function to come--what is the pattern here?\n",
    "    #x axis values\n",
    "    \n",
    "    a6000=-0.426+1.0044*R\n",
    "    a5470=-0.050+1.0016*R\n",
    "    a4670= 0.701+1.0016*R\n",
    "    a4110= 1.208+1.0032*R-0.00033*R**2\n",
    "    #for values in array, apply R in some way\n",
    "    #create new values using R. Where do coefficients of R come from?\n",
    "\n",
    "    af99_anchor = np.array([0.0, 0.265, 0.829, a6000, a5470, a4670, a4110, 6.265, 6.591])/3.1\n",
    "    #same shape as previous array so function can be created\n",
    "    #create a new array, replacing numbers from original array with their corresponding constant\n",
    "    #divide by 3.1: comparing to the \"standard\" R value of 3.1?\n",
    "    #y axis values--tell extinction pattern of \"anchor values\"?\n",
    "    \n",
    "    f=interp1d(f99_anchor,af99_anchor, kind='cubic') \n",
    "    #create a 2-variable function between the two arrays, wavelength and magnitude of extinction\n",
    "    #find a function of frequency (1/wavelength)\n",
    "    \n",
    "    return f(x)\n",
    "    #A_lambda/A_V:a different value for each input wavelength (continuous function)"
   ]
  },
  {
   "cell_type": "code",
   "execution_count": 6,
   "metadata": {
    "collapsed": false
   },
   "outputs": [],
   "source": [
    "# Build a wavelength vector\n",
    "import numpy as np\n",
    "dwav=0.001\n",
    "wav=np.arange(0.29,2.51,dwav) #wavelength = microns #range of PHOENIX spectra is 0.3 to 2.5 microns\n",
    "\n",
    "def planck_sed(wav,T):\n",
    "# Source blackbody emission: wavelength in microns, temp in Kelvin\n",
    "# Output is SED (Spectral Energy Distribution)\n",
    "# Units are SI W/m^2/m\n",
    "\n",
    "    l=wav*1E-6\n",
    "    h=6.62606957*(10**-34.0)\n",
    "    c=3.00*(10**8.0)\n",
    "    k=1.3806488*(10**-23.0)\n",
    "    \n",
    "    x=(2.0*3.14*h*c**2.0/l**5.0)\n",
    "    \n",
    "    exponent = h*c/(k*T*l)\n",
    "                 \n",
    "    ex = np.exp(exponent)-1\n",
    "\n",
    "    PLANCK=(x)*(ex**-1)\n",
    "    \n",
    "    return PLANCK*(10**7)/10000/(10**10)"
   ]
  },
  {
   "cell_type": "code",
   "execution_count": 7,
   "metadata": {
    "collapsed": true
   },
   "outputs": [],
   "source": [
    "import numpy as np\n",
    "from matplotlib import pyplot as plt\n",
    "import astropy\n",
    "import pandas as pd\n",
    "from scipy.interpolate import interp1d\n",
    "\n",
    "from astropy.io import fits\n",
    "\n",
    "%matplotlib inline"
   ]
  },
  {
   "cell_type": "markdown",
   "metadata": {},
   "source": [
    "### The Plotting Function"
   ]
  },
  {
   "cell_type": "markdown",
   "metadata": {},
   "source": [
    "#### Outline"
   ]
  },
  {
   "cell_type": "code",
   "execution_count": 8,
   "metadata": {
    "collapsed": true
   },
   "outputs": [],
   "source": [
    "#1: get model spectrum for a temperature\n",
    "#2: apply extinction law and generate 20+ extinguished spectra\n",
    "#3: add an appropriately scaled (Estar = Ebb) blackbody to each of the extinguished spectra\n",
    "#4: calculate V and K band magnitudes for each spectrum\n",
    "#5: put magnitudes into a list for each spectrum\n",
    "#6: plot V vs V-K for each spectrum"
   ]
  },
  {
   "cell_type": "markdown",
   "metadata": {},
   "source": [
    "#### Code"
   ]
  },
  {
   "cell_type": "code",
   "execution_count": 9,
   "metadata": {
    "collapsed": true
   },
   "outputs": [],
   "source": [
    "def GetScaleFactor (modeltemp,bbtemp):\n",
    "    model_wavelengths = get_model(modeltemp)[0]\n",
    "    model_spectrum = get_model(modeltemp)[1]/10000/10000\n",
    "    \n",
    "    bbwavelengths = wav #microns\n",
    "    fluxdist = (planck_sed(wav,bbtemp))\n",
    "    \n",
    "    #define bb scale factor\n",
    "    import scipy.integrate as integrate\n",
    "    star_output =integrate.simps(model_spectrum, x=model_wavelengths, even='avg')\n",
    "    bb_output = integrate.simps(bbwavelengths,x=fluxdist,even='avg')\n",
    "    bbscale = star_output/bb_output\n",
    "    return bbscale"
   ]
  },
  {
   "cell_type": "code",
   "execution_count": 10,
   "metadata": {
    "collapsed": false
   },
   "outputs": [],
   "source": [
    "def PlotExtinctions(temp,numpoints,bbscale,plotcolor,labelname):\n",
    "    #define model spectrum\n",
    "    model_wavelengths = get_model(temp)[0] #list of all wavelengths\n",
    "    model_spectrum = get_model(temp)[1]/10000/10000 #list of corresponding fluxes\n",
    "    \n",
    "    bbwavelengths = wav #microns #list of all wavelengths\n",
    "    fluxdist = (planck_sed(wav,1200)) #list of corresponding fluxes\n",
    "    \n",
    "    bbflux = bbscale*fluxdist \n",
    "    blackbodyf= interp1d(bbwavelengths, bbflux)\n",
    "    \n",
    "    #define extinction\n",
    "    Al_over_Av=getFMext(1.0/model_wavelengths,3.1)\n",
    "    #Use Z=Y*10.0**(-0.4*AlAv) for reddened spectra\n",
    "    #Multiply exponent by desired magnitude of extinction\n",
    "    \n",
    "    #generate 20 extinguished spectra and save them in a list for later use\n",
    "    x = 0\n",
    "    ext_spectrum_list = []\n",
    "    for x in range(0,numpoints-1):\n",
    "        one_extinction=model_spectrum*10.0**(-0.4*Al_over_Av*x) #extinguishing flux list\n",
    "        ext_spectrum_list.append(one_extinction) #creating a list of all lists\n",
    "        x = x + 1\n",
    "        if x == numpoints+1:\n",
    "            break\n",
    "    \n",
    "    #make a list wherein an appropriately scaled blackbody is added to each term\n",
    "    #of the previous list\n",
    "    y = 0\n",
    "    V_mag_list = []\n",
    "    V_min_K_list = []\n",
    "    ext_spectrum_bb_list=ext_spectrum_list #starting with a list of all extinguished fluxes\n",
    "    for y in range(0,numpoints-1):\n",
    "        #for each list of extinguished spectra, add the blackbody flux\n",
    "        ext_spectrum_bb_list[y] = ext_spectrum_list[y] + blackbodyf(model_wavelengths)\n",
    "        V_mag=getMag_hires('V',model_wavelengths,ext_spectrum_bb_list[y])\n",
    "        K_mag=getMag_hires('Ks',model_wavelengths,ext_spectrum_bb_list[y])\n",
    "        \n",
    "        V_mag_list.append(V_mag)\n",
    "        V_min_K_list.append(V_mag - K_mag)\n",
    "        \n",
    "        #plt.scatter(V_mag-K_mag,V_mag, color=plotcolor)\n",
    "        y = y + 1\n",
    "        if y==numpoints+1:\n",
    "            break\n",
    "            \n",
    "    plt.scatter(V_min_K_list,V_mag_list,color=plotcolor,label=labelname)\n",
    "            \n",
    "    slope_1 = (V_mag_list[1] - V_mag_list[0])/(V_min_K_list[1]-V_min_K_list[0])   \n",
    "    slope_2 = (V_mag_list[-1] - V_mag_list[-2])/(V_min_K_list[-1]-V_min_K_list[-2])\n",
    "    print \"first slope:\", slope_1\n",
    "    print \"last slope:\", slope_2\n",
    "    print \"change in slopes:\", slope_2 - slope_1\n"
   ]
  },
  {
   "cell_type": "code",
   "execution_count": 35,
   "metadata": {
    "collapsed": true
   },
   "outputs": [],
   "source": [
    "def PlotSlopes(temp,numpoints,bbscale,plotcolor):\n",
    "    #define model spectrum\n",
    "    model_wavelengths = get_model(temp)[0] #list of all wavelengths\n",
    "    model_spectrum = get_model(temp)[1]/10000/10000 #list of corresponding fluxes\n",
    "    \n",
    "    bbwavelengths = wav #microns #list of all wavelengths\n",
    "    fluxdist = (planck_sed(wav,1200)) #list of corresponding fluxes\n",
    "    \n",
    "    bbflux = bbscale*fluxdist \n",
    "    blackbodyf= interp1d(bbwavelengths, bbflux)\n",
    "    \n",
    "    #define extinction\n",
    "    Al_over_Av=getFMext(1.0/model_wavelengths,3.1)\n",
    "    #Use Z=Y*10.0**(-0.4*AlAv) for reddened spectra\n",
    "    #Multiply exponent by desired magnitude of extinction\n",
    "    \n",
    "    #generate 20 extinguished spectra and save them in a list for later use\n",
    "    x = 0\n",
    "    ext_spectrum_list = []\n",
    "    for x in range(0,numpoints-1):\n",
    "        one_extinction=model_spectrum*10.0**(-0.4*Al_over_Av*x) #extinguishing flux list\n",
    "        ext_spectrum_list.append(one_extinction) #creating a list of all lists\n",
    "        x = x + 1\n",
    "        if x == numpoints+1:\n",
    "            break\n",
    "    \n",
    "    #make a list wherein an appropriately scaled blackbody is added to each term\n",
    "    #of the previous list\n",
    "    y = 0\n",
    "    V_mag_list = []\n",
    "    V_min_K_list = []\n",
    "    ext_spectrum_bb_list=ext_spectrum_list #starting with a list of all extinguished fluxes\n",
    "    \n",
    "    for y in range(0,numpoints-1):\n",
    "        #for each list of extinguished spectra, add the blackbody flux\n",
    "        ext_spectrum_bb_list[y] = ext_spectrum_list[y] + blackbodyf(model_wavelengths)\n",
    "        V_mag=getMag_hires('V',model_wavelengths,ext_spectrum_bb_list[y])\n",
    "        K_mag=getMag_hires('Ks',model_wavelengths,ext_spectrum_bb_list[y])\n",
    "        \n",
    "        V_mag_list.append(V_mag)\n",
    "        V_min_K_list.append(V_mag - K_mag)\n",
    "        \n",
    "        #plt.scatter(V_mag-K_mag,V_mag, color=plotcolor)\n",
    "        y = y + 1\n",
    "        if y==numpoints+1:\n",
    "            break\n",
    "    \n",
    "    slope_list=[]\n",
    "    q=0\n",
    "    for q in range(0,numpoints-1):\n",
    "        slope = (V_mag_list[q+1]-V_mag_list[q])/(V_min_K_list[q+1]-V_min_K_list[q])\n",
    "        slope_list.append(slope)\n",
    "        q=q+1\n",
    "        if q==numpoints-2:\n",
    "            break\n",
    "            \n",
    "    t=0        \n",
    "    for t in range(0,numpoints-2):\n",
    "        A_V = t+1\n",
    "        slope_change = (slope_list[t+1]-slope_list[t])\n",
    "        plt.scatter(A_V,slope_change,color=plotcolor)\n",
    "        t=t+1\n",
    "        if t==numpoints-3:\n",
    "            break\n",
    "            "
   ]
  },
  {
   "cell_type": "markdown",
   "metadata": {},
   "source": [
    "### Plots"
   ]
  },
  {
   "cell_type": "code",
   "execution_count": 12,
   "metadata": {
    "collapsed": false
   },
   "outputs": [
    {
     "data": {
      "text/plain": [
       "1186.7478481865824"
      ]
     },
     "execution_count": 12,
     "metadata": {},
     "output_type": "execute_result"
    }
   ],
   "source": [
    "GetScaleFactor('5700',1200)\n",
    "#scales the second blackbody (dust) appropriately"
   ]
  },
  {
   "cell_type": "code",
   "execution_count": 13,
   "metadata": {
    "collapsed": false
   },
   "outputs": [
    {
     "name": "stdout",
     "output_type": "stream",
     "text": [
      "first slope: 1.12954313119\n",
      "last slope: 1.13747655856\n",
      "change in slopes: 0.0079334273723\n",
      "first slope: 1.11860269678\n",
      "last slope: 1.11540149913\n",
      "change in slopes: -0.00320119764887\n",
      "first slope: 1.01085781713\n",
      "last slope: 1.00608932453\n",
      "change in slopes: -0.00476849259925\n",
      "first slope: 1.00275248954\n",
      "last slope: 1.00172361677\n",
      "change in slopes: -0.00102887277491\n",
      "first slope: 1.00139166484\n",
      "last slope: 1.00101674322\n",
      "change in slopes: -0.000374921622972\n"
     ]
    },
    {
     "data": {
      "text/plain": [
       "<matplotlib.text.Text at 0x113914710>"
      ]
     },
     "execution_count": 13,
     "metadata": {},
     "output_type": "execute_result"
    },
    {
     "data": {
      "image/png": "[encoded data removed]",
      "text/plain": [
       "<matplotlib.figure.Figure at 0x104a814d0>"
      ]
     },
     "metadata": {},
     "output_type": "display_data"
    }
   ],
   "source": [
    "#run plotting function with a temperature\n",
    "#10 data points (applied extinction law 10 times with integer multiples of A_lambda)\n",
    "PlotExtinctions('5700',10,0,'orange',\"no disk\") #no second blackbody\n",
    "PlotExtinctions('5700',10,10,'red',\"disk scaled by 10\") #second blackbody scaled by 10\n",
    "PlotExtinctions('5700',10,1186,'green',\"disk scaled by 1186\") #properly scaled\n",
    "PlotExtinctions('5700',10,5000, 'purple',\"disk scaled by 5000\")\n",
    "PlotExtinctions('5700',10,10000,'blue',\"disk scaled by 10000\") #scaled by 10000\n",
    "plt.legend(loc='lower left',fancybox=True, framealpha=0.1)\n",
    "plt.gca().invert_yaxis()\n",
    "plt.xlabel(\"V - K (color)\")\n",
    "plt.ylabel(\"V (magnitude)\")\n",
    "plt.title('V vs. V-K')"
   ]
  },
  {
   "cell_type": "code",
   "execution_count": 14,
   "metadata": {
    "collapsed": false
   },
   "outputs": [
    {
     "name": "stdout",
     "output_type": "stream",
     "text": [
      "first slope: 1.12954313119\n",
      "last slope: 1.14998477918\n",
      "change in slopes: 0.0204416479907\n",
      "first slope: 1.11860269678\n",
      "last slope: 1.29340124289\n",
      "change in slopes: 0.174798546108\n",
      "first slope: 1.06739571629\n",
      "last slope: 1.59273560958\n",
      "change in slopes: 0.525339893292\n",
      "first slope: 1.01085781713\n",
      "last slope: -0.0864091510704\n",
      "change in slopes: -1.0972669682\n",
      "first slope: 1.00139166484\n",
      "last slope: 1.72800900843\n",
      "change in slopes: 0.726617343583\n"
     ]
    },
    {
     "data": {
      "text/plain": [
       "<matplotlib.text.Text at 0x11674f250>"
      ]
     },
     "execution_count": 14,
     "metadata": {},
     "output_type": "execute_result"
    },
    {
     "data": {
      "image/png": "[encoded data removed]",
      "text/plain": [
       "<matplotlib.figure.Figure at 0x11283a810>"
      ]
     },
     "metadata": {},
     "output_type": "display_data"
    }
   ],
   "source": [
    "#run plotting function with a temperature\n",
    "#30 data points\n",
    "PlotExtinctions('5700',20,0,'orange',\"no disk\") #no second blackbody\n",
    "PlotExtinctions('5700',20,10,'red',\"disk scaled by 10\") #scaled by 10\n",
    "PlotExtinctions('5700',20,100,'purple',\"disk scaled by 100\")\n",
    "PlotExtinctions('5700',25,1186,'green',\"disk scaled by 1186\") #properly scaled\n",
    "PlotExtinctions('5700',20,10000,'blue',\"disk scaled by 10000\") #scaled by 10000\n",
    "\n",
    "plt.legend(loc='lower left',fancybox=True, framealpha=0.1)\n",
    "plt.gca().invert_yaxis()\n",
    "plt.xlabel(\"V - K (color)\")\n",
    "plt.ylabel(\"V (magnitude)\")\n",
    "plt.title('V vs. V-K')"
   ]
  },
  {
   "cell_type": "markdown",
   "metadata": {},
   "source": [
    "### Plotting Change in Slope"
   ]
  },
  {
   "cell_type": "code",
   "execution_count": 42,
   "metadata": {
    "collapsed": false
   },
   "outputs": [
    {
     "data": {
      "text/plain": [
       "<matplotlib.text.Text at 0x11ecf9f10>"
      ]
     },
     "execution_count": 42,
     "metadata": {},
     "output_type": "execute_result"
    },
    {
     "data": {
      "image/png": "[encoded data removed]",
      "text/plain": [
       "<matplotlib.figure.Figure at 0x116eabbd0>"
      ]
     },
     "metadata": {},
     "output_type": "display_data"
    }
   ],
   "source": [
    "PlotSlopes('5700',30,1186,'green')\n",
    "plt.xlabel(\"A_V\")\n",
    "plt.ylabel(\"slope\")\n",
    "plt.title('slope vs. A_V')"
   ]
  },
  {
   "cell_type": "code",
   "execution_count": 44,
   "metadata": {
    "collapsed": false
   },
   "outputs": [
    {
     "data": {
      "text/plain": [
       "<matplotlib.text.Text at 0x11f4ef7d0>"
      ]
     },
     "execution_count": 44,
     "metadata": {},
     "output_type": "execute_result"
    },
    {
     "data": {
      "image/png": "[encoded data removed]",
      "text/plain": [
       "<matplotlib.figure.Figure at 0x11e9f48d0>"
      ]
     },
     "metadata": {},
     "output_type": "display_data"
    }
   ],
   "source": [
    "PlotSlopes('5700',30,0,'orange') #no second blackbody\n",
    "PlotSlopes('5700',30,10,'red') #scaled by 10\n",
    "PlotSlopes('5700',30,100,'purple')\n",
    "PlotSlopes('5700',30,1186,'green') #properly scaled\n",
    "PlotSlopes('5700',30,10000,'blue') #scaled by 10000\n",
    "plt.xlabel(\"A_V\")\n",
    "plt.ylabel(\"change in slope\")\n",
    "plt.title('slope vs. A_V')"
   ]
  },
  {
   "cell_type": "code",
   "execution_count": 68,
   "metadata": {
    "collapsed": false
   },
   "outputs": [
    {
     "name": "stdout",
     "output_type": "stream",
     "text": [
      "V magnitude: -0.216084675201 K magnitude: -14.6434697662 V-K color: 14.427385091\n"
     ]
    }
   ],
   "source": [
    "#Run photometry on disk only:\n",
    "Kmag=getMag_hires('Ks',wav,planck_sed(wav,1200))\n",
    "Vmag=getMag_hires('V',wav,planck_sed(wav,1200))\n",
    "VminKmag = Vmag - Kmag\n",
    "print \"V magnitude:\",Vmag,\"K magnitude:\", Kmag,\"V-K color:\", VminKmag"
   ]
  }
 ],
 "metadata": {
  "kernelspec": {
   "display_name": "Python 2",
   "language": "python",
   "name": "python2"
  },
  "language_info": {
   "codemirror_mode": {
    "name": "ipython",
    "version": 2
   },
   "file_extension": ".py",
   "mimetype": "text/x-python",
   "name": "python",
   "nbconvert_exporter": "python",
   "pygments_lexer": "ipython2",
   "version": "2.7.11"
  }
 },
 "nbformat": 4,
 "nbformat_minor": 0
}
